{
 "cells": [
  {
   "cell_type": "code",
   "execution_count": 1,
   "metadata": {
    "vscode": {
     "languageId": "r"
    }
   },
   "outputs": [
    {
     "name": "stderr",
     "output_type": "stream",
     "text": [
      "Loading required package: S4Vectors\n",
      "\n",
      "Loading required package: stats4\n",
      "\n",
      "Loading required package: BiocGenerics\n",
      "\n",
      "\n",
      "Attaching package: ‘BiocGenerics’\n",
      "\n",
      "\n",
      "The following objects are masked from ‘package:stats’:\n",
      "\n",
      "    IQR, mad, sd, var, xtabs\n",
      "\n",
      "\n",
      "The following objects are masked from ‘package:base’:\n",
      "\n",
      "    anyDuplicated, append, as.data.frame, basename, cbind, colnames,\n",
      "    dirname, do.call, duplicated, eval, evalq, Filter, Find, get, grep,\n",
      "    grepl, intersect, is.unsorted, lapply, Map, mapply, match, mget,\n",
      "    order, paste, pmax, pmax.int, pmin, pmin.int, Position, rank,\n",
      "    rbind, Reduce, rownames, sapply, setdiff, sort, table, tapply,\n",
      "    union, unique, unsplit, which.max, which.min\n",
      "\n",
      "\n",
      "\n",
      "Attaching package: ‘S4Vectors’\n",
      "\n",
      "\n",
      "The following objects are masked from ‘package:base’:\n",
      "\n",
      "    expand.grid, I, unname\n",
      "\n",
      "\n",
      "Loading required package: IRanges\n",
      "\n",
      "Loading required package: GenomicRanges\n",
      "\n",
      "Loading required package: GenomeInfoDb\n",
      "\n",
      "Loading required package: SummarizedExperiment\n",
      "\n",
      "Loading required package: MatrixGenerics\n",
      "\n",
      "Loading required package: matrixStats\n",
      "\n",
      "\n",
      "Attaching package: ‘MatrixGenerics’\n",
      "\n",
      "\n",
      "The following objects are masked from ‘package:matrixStats’:\n",
      "\n",
      "    colAlls, colAnyNAs, colAnys, colAvgsPerRowSet, colCollapse,\n",
      "    colCounts, colCummaxs, colCummins, colCumprods, colCumsums,\n",
      "    colDiffs, colIQRDiffs, colIQRs, colLogSumExps, colMadDiffs,\n",
      "    colMads, colMaxs, colMeans2, colMedians, colMins, colOrderStats,\n",
      "    colProds, colQuantiles, colRanges, colRanks, colSdDiffs, colSds,\n",
      "    colSums2, colTabulates, colVarDiffs, colVars, colWeightedMads,\n",
      "    colWeightedMeans, colWeightedMedians, colWeightedSds,\n",
      "    colWeightedVars, rowAlls, rowAnyNAs, rowAnys, rowAvgsPerColSet,\n",
      "    rowCollapse, rowCounts, rowCummaxs, rowCummins, rowCumprods,\n",
      "    rowCumsums, rowDiffs, rowIQRDiffs, rowIQRs, rowLogSumExps,\n",
      "    rowMadDiffs, rowMads, rowMaxs, rowMeans2, rowMedians, rowMins,\n",
      "    rowOrderStats, rowProds, rowQuantiles, rowRanges, rowRanks,\n",
      "    rowSdDiffs, rowSds, rowSums2, rowTabulates, rowVarDiffs, rowVars,\n",
      "    rowWeightedMads, rowWeightedMeans, rowWeightedMedians,\n",
      "    rowWeightedSds, rowWeightedVars\n",
      "\n",
      "\n",
      "Loading required package: Biobase\n",
      "\n",
      "Welcome to Bioconductor\n",
      "\n",
      "    Vignettes contain introductory material; view with\n",
      "    'browseVignettes()'. To cite Bioconductor, see\n",
      "    'citation(\"Biobase\")', and for packages 'citation(\"pkgname\")'.\n",
      "\n",
      "\n",
      "\n",
      "Attaching package: ‘Biobase’\n",
      "\n",
      "\n",
      "The following object is masked from ‘package:MatrixGenerics’:\n",
      "\n",
      "    rowMedians\n",
      "\n",
      "\n",
      "The following objects are masked from ‘package:matrixStats’:\n",
      "\n",
      "    anyMissing, rowMedians\n",
      "\n",
      "\n"
     ]
    }
   ],
   "source": [
    "library(magrittr)\n",
    "library(DESeq2)"
   ]
  },
  {
   "cell_type": "code",
   "execution_count": null,
   "metadata": {
    "vscode": {
     "languageId": "r"
    }
   },
   "outputs": [
    {
     "data": {
      "text/html": [
       "<table class=\"dataframe\">\n",
       "<caption>A data.frame: 6 × 5</caption>\n",
       "<thead>\n",
       "\t<tr><th></th><th scope=col>Sample</th><th scope=col>Cancer</th><th scope=col>Group</th><th scope=col>DataBase</th><th scope=col>Group_</th></tr>\n",
       "\t<tr><th></th><th scope=col>&lt;chr&gt;</th><th scope=col>&lt;chr&gt;</th><th scope=col>&lt;chr&gt;</th><th scope=col>&lt;chr&gt;</th><th scope=col>&lt;fct&gt;</th></tr>\n",
       "</thead>\n",
       "<tbody>\n",
       "\t<tr><th scope=row>1</th><td>TCGA-FU-A3HZ-01</td><td>CESC</td><td>Tumor</td><td>TCGA</td><td>reference</td></tr>\n",
       "\t<tr><th scope=row>2</th><td>TCGA-DR-A0ZM-01</td><td>CESC</td><td>Tumor</td><td>TCGA</td><td>reference</td></tr>\n",
       "\t<tr><th scope=row>3</th><td>TCGA-IR-A3LB-01</td><td>CESC</td><td>Tumor</td><td>TCGA</td><td>reference</td></tr>\n",
       "\t<tr><th scope=row>4</th><td>TCGA-DG-A2KJ-01</td><td>CESC</td><td>Tumor</td><td>TCGA</td><td>reference</td></tr>\n",
       "\t<tr><th scope=row>5</th><td>TCGA-C5-A7CM-01</td><td>CESC</td><td>Tumor</td><td>TCGA</td><td>reference</td></tr>\n",
       "\t<tr><th scope=row>6</th><td>TCGA-VS-A9UJ-01</td><td>CESC</td><td>Tumor</td><td>TCGA</td><td>reference</td></tr>\n",
       "</tbody>\n",
       "</table>\n"
      ],
      "text/latex": [
       "A data.frame: 6 × 5\n",
       "\\begin{tabular}{r|lllll}\n",
       "  & Sample & Cancer & Group & DataBase & Group\\_\\\\\n",
       "  & <chr> & <chr> & <chr> & <chr> & <fct>\\\\\n",
       "\\hline\n",
       "\t1 & TCGA-FU-A3HZ-01 & CESC & Tumor & TCGA & reference\\\\\n",
       "\t2 & TCGA-DR-A0ZM-01 & CESC & Tumor & TCGA & reference\\\\\n",
       "\t3 & TCGA-IR-A3LB-01 & CESC & Tumor & TCGA & reference\\\\\n",
       "\t4 & TCGA-DG-A2KJ-01 & CESC & Tumor & TCGA & reference\\\\\n",
       "\t5 & TCGA-C5-A7CM-01 & CESC & Tumor & TCGA & reference\\\\\n",
       "\t6 & TCGA-VS-A9UJ-01 & CESC & Tumor & TCGA & reference\\\\\n",
       "\\end{tabular}\n"
      ],
      "text/markdown": [
       "\n",
       "A data.frame: 6 × 5\n",
       "\n",
       "| <!--/--> | Sample &lt;chr&gt; | Cancer &lt;chr&gt; | Group &lt;chr&gt; | DataBase &lt;chr&gt; | Group_ &lt;fct&gt; |\n",
       "|---|---|---|---|---|---|\n",
       "| 1 | TCGA-FU-A3HZ-01 | CESC | Tumor | TCGA | reference |\n",
       "| 2 | TCGA-DR-A0ZM-01 | CESC | Tumor | TCGA | reference |\n",
       "| 3 | TCGA-IR-A3LB-01 | CESC | Tumor | TCGA | reference |\n",
       "| 4 | TCGA-DG-A2KJ-01 | CESC | Tumor | TCGA | reference |\n",
       "| 5 | TCGA-C5-A7CM-01 | CESC | Tumor | TCGA | reference |\n",
       "| 6 | TCGA-VS-A9UJ-01 | CESC | Tumor | TCGA | reference |\n",
       "\n"
      ],
      "text/plain": [
       "  Sample          Cancer Group DataBase Group_   \n",
       "1 TCGA-FU-A3HZ-01 CESC   Tumor TCGA     reference\n",
       "2 TCGA-DR-A0ZM-01 CESC   Tumor TCGA     reference\n",
       "3 TCGA-IR-A3LB-01 CESC   Tumor TCGA     reference\n",
       "4 TCGA-DG-A2KJ-01 CESC   Tumor TCGA     reference\n",
       "5 TCGA-C5-A7CM-01 CESC   Tumor TCGA     reference\n",
       "6 TCGA-VS-A9UJ-01 CESC   Tumor TCGA     reference"
      ]
     },
     "metadata": {},
     "output_type": "display_data"
    }
   ],
   "source": [
    "metaInfo <- read.table('/public/workspace/ryrl/projects/classmates/ryrl/Cancers/TCGA/intermediate/metaInfo.txt', header = T, sep = '\\t')\n",
    "head(metaInfo)"
   ]
  },
  {
   "cell_type": "code",
   "execution_count": 34,
   "metadata": {
    "vscode": {
     "languageId": "r"
    }
   },
   "outputs": [
    {
     "data": {
      "text/html": [
       "<table class=\"dataframe\">\n",
       "<caption>A matrix: 6 × 8232 of type int</caption>\n",
       "<thead>\n",
       "\t<tr><th></th><th scope=col>TCGA-FU-A3HZ-01</th><th scope=col>TCGA-DR-A0ZM-01</th><th scope=col>TCGA-IR-A3LB-01</th><th scope=col>TCGA-DG-A2KJ-01</th><th scope=col>TCGA-C5-A7CM-01</th><th scope=col>TCGA-VS-A9UJ-01</th><th scope=col>TCGA-VS-A8QH-01</th><th scope=col>TCGA-MY-A5BF-01</th><th scope=col>TCGA-JW-A5VJ-01</th><th scope=col>TCGA-C5-A1BN-01</th><th scope=col>⋯</th><th scope=col>TCGA-W5-AA38-01</th><th scope=col>TCGA-4G-AAZO-01</th><th scope=col>TCGA-ZD-A8I3-01</th><th scope=col>TCGA-W5-AA2O-01</th><th scope=col>TCGA-ZH-A8Y6-01</th><th scope=col>TCGA-W6-AA0S-01</th><th scope=col>TCGA-W5-AA33-01</th><th scope=col>TCGA-YR-A95A-01</th><th scope=col>TCGA-W5-AA2I-01</th><th scope=col>TCGA-W5-AA34-01</th></tr>\n",
       "</thead>\n",
       "<tbody>\n",
       "\t<tr><th scope=row>ENSG00000000003</th><td>3423</td><td>2162</td><td>10190</td><td>462</td><td>5349</td><td>2661</td><td>4561</td><td>1884</td><td>1582</td><td>1869</td><td>⋯</td><td>8249</td><td>1631</td><td>5254</td><td>2883</td><td> 576</td><td>3632</td><td>11342</td><td>10086</td><td>4245</td><td>8150</td></tr>\n",
       "\t<tr><th scope=row>ENSG00000000005</th><td>   0</td><td>   0</td><td>    6</td><td>  0</td><td>   1</td><td>   0</td><td>  36</td><td>   2</td><td>   0</td><td>   0</td><td>⋯</td><td>   1</td><td>   0</td><td>   1</td><td>   0</td><td>   0</td><td>   1</td><td>    1</td><td>   10</td><td>   0</td><td>   0</td></tr>\n",
       "\t<tr><th scope=row>ENSG00000000460</th><td> 459</td><td> 339</td><td>  912</td><td> 47</td><td> 494</td><td> 273</td><td> 337</td><td> 834</td><td> 603</td><td>1868</td><td>⋯</td><td> 297</td><td> 162</td><td> 370</td><td> 358</td><td> 254</td><td> 185</td><td>  390</td><td>  166</td><td> 307</td><td> 378</td></tr>\n",
       "\t<tr><th scope=row>ENSG00000000938</th><td> 210</td><td> 719</td><td>  323</td><td> 91</td><td> 177</td><td>  74</td><td> 115</td><td> 350</td><td> 401</td><td>  81</td><td>⋯</td><td> 182</td><td> 137</td><td> 143</td><td> 248</td><td> 103</td><td> 570</td><td>  668</td><td>  151</td><td> 118</td><td> 223</td></tr>\n",
       "\t<tr><th scope=row>ENSG00000001084</th><td>5721</td><td> 820</td><td> 3148</td><td>123</td><td>1406</td><td> 979</td><td>2754</td><td>1240</td><td> 615</td><td>3346</td><td>⋯</td><td>2055</td><td> 447</td><td>2180</td><td>1266</td><td>2642</td><td>1136</td><td> 2608</td><td> 3206</td><td>1715</td><td>1853</td></tr>\n",
       "\t<tr><th scope=row>ENSG00000001561</th><td> 715</td><td> 342</td><td> 3520</td><td>102</td><td>2376</td><td>1611</td><td>1286</td><td> 992</td><td> 227</td><td>  49</td><td>⋯</td><td> 772</td><td> 654</td><td> 881</td><td> 686</td><td>2245</td><td> 816</td><td> 1640</td><td> 1052</td><td> 613</td><td>1313</td></tr>\n",
       "</tbody>\n",
       "</table>\n"
      ],
      "text/latex": [
       "A matrix: 6 × 8232 of type int\n",
       "\\begin{tabular}{r|lllllllllllllllllllll}\n",
       "  & TCGA-FU-A3HZ-01 & TCGA-DR-A0ZM-01 & TCGA-IR-A3LB-01 & TCGA-DG-A2KJ-01 & TCGA-C5-A7CM-01 & TCGA-VS-A9UJ-01 & TCGA-VS-A8QH-01 & TCGA-MY-A5BF-01 & TCGA-JW-A5VJ-01 & TCGA-C5-A1BN-01 & ⋯ & TCGA-W5-AA38-01 & TCGA-4G-AAZO-01 & TCGA-ZD-A8I3-01 & TCGA-W5-AA2O-01 & TCGA-ZH-A8Y6-01 & TCGA-W6-AA0S-01 & TCGA-W5-AA33-01 & TCGA-YR-A95A-01 & TCGA-W5-AA2I-01 & TCGA-W5-AA34-01\\\\\n",
       "\\hline\n",
       "\tENSG00000000003 & 3423 & 2162 & 10190 & 462 & 5349 & 2661 & 4561 & 1884 & 1582 & 1869 & ⋯ & 8249 & 1631 & 5254 & 2883 &  576 & 3632 & 11342 & 10086 & 4245 & 8150\\\\\n",
       "\tENSG00000000005 &    0 &    0 &     6 &   0 &    1 &    0 &   36 &    2 &    0 &    0 & ⋯ &    1 &    0 &    1 &    0 &    0 &    1 &     1 &    10 &    0 &    0\\\\\n",
       "\tENSG00000000460 &  459 &  339 &   912 &  47 &  494 &  273 &  337 &  834 &  603 & 1868 & ⋯ &  297 &  162 &  370 &  358 &  254 &  185 &   390 &   166 &  307 &  378\\\\\n",
       "\tENSG00000000938 &  210 &  719 &   323 &  91 &  177 &   74 &  115 &  350 &  401 &   81 & ⋯ &  182 &  137 &  143 &  248 &  103 &  570 &   668 &   151 &  118 &  223\\\\\n",
       "\tENSG00000001084 & 5721 &  820 &  3148 & 123 & 1406 &  979 & 2754 & 1240 &  615 & 3346 & ⋯ & 2055 &  447 & 2180 & 1266 & 2642 & 1136 &  2608 &  3206 & 1715 & 1853\\\\\n",
       "\tENSG00000001561 &  715 &  342 &  3520 & 102 & 2376 & 1611 & 1286 &  992 &  227 &   49 & ⋯ &  772 &  654 &  881 &  686 & 2245 &  816 &  1640 &  1052 &  613 & 1313\\\\\n",
       "\\end{tabular}\n"
      ],
      "text/markdown": [
       "\n",
       "A matrix: 6 × 8232 of type int\n",
       "\n",
       "| <!--/--> | TCGA-FU-A3HZ-01 | TCGA-DR-A0ZM-01 | TCGA-IR-A3LB-01 | TCGA-DG-A2KJ-01 | TCGA-C5-A7CM-01 | TCGA-VS-A9UJ-01 | TCGA-VS-A8QH-01 | TCGA-MY-A5BF-01 | TCGA-JW-A5VJ-01 | TCGA-C5-A1BN-01 | ⋯ | TCGA-W5-AA38-01 | TCGA-4G-AAZO-01 | TCGA-ZD-A8I3-01 | TCGA-W5-AA2O-01 | TCGA-ZH-A8Y6-01 | TCGA-W6-AA0S-01 | TCGA-W5-AA33-01 | TCGA-YR-A95A-01 | TCGA-W5-AA2I-01 | TCGA-W5-AA34-01 |\n",
       "|---|---|---|---|---|---|---|---|---|---|---|---|---|---|---|---|---|---|---|---|---|---|\n",
       "| ENSG00000000003 | 3423 | 2162 | 10190 | 462 | 5349 | 2661 | 4561 | 1884 | 1582 | 1869 | ⋯ | 8249 | 1631 | 5254 | 2883 |  576 | 3632 | 11342 | 10086 | 4245 | 8150 |\n",
       "| ENSG00000000005 |    0 |    0 |     6 |   0 |    1 |    0 |   36 |    2 |    0 |    0 | ⋯ |    1 |    0 |    1 |    0 |    0 |    1 |     1 |    10 |    0 |    0 |\n",
       "| ENSG00000000460 |  459 |  339 |   912 |  47 |  494 |  273 |  337 |  834 |  603 | 1868 | ⋯ |  297 |  162 |  370 |  358 |  254 |  185 |   390 |   166 |  307 |  378 |\n",
       "| ENSG00000000938 |  210 |  719 |   323 |  91 |  177 |   74 |  115 |  350 |  401 |   81 | ⋯ |  182 |  137 |  143 |  248 |  103 |  570 |   668 |   151 |  118 |  223 |\n",
       "| ENSG00000001084 | 5721 |  820 |  3148 | 123 | 1406 |  979 | 2754 | 1240 |  615 | 3346 | ⋯ | 2055 |  447 | 2180 | 1266 | 2642 | 1136 |  2608 |  3206 | 1715 | 1853 |\n",
       "| ENSG00000001561 |  715 |  342 |  3520 | 102 | 2376 | 1611 | 1286 |  992 |  227 |   49 | ⋯ |  772 |  654 |  881 |  686 | 2245 |  816 |  1640 |  1052 |  613 | 1313 |\n",
       "\n"
      ],
      "text/plain": [
       "                TCGA-FU-A3HZ-01 TCGA-DR-A0ZM-01 TCGA-IR-A3LB-01 TCGA-DG-A2KJ-01\n",
       "ENSG00000000003 3423            2162            10190           462            \n",
       "ENSG00000000005    0               0                6             0            \n",
       "ENSG00000000460  459             339              912            47            \n",
       "ENSG00000000938  210             719              323            91            \n",
       "ENSG00000001084 5721             820             3148           123            \n",
       "ENSG00000001561  715             342             3520           102            \n",
       "                TCGA-C5-A7CM-01 TCGA-VS-A9UJ-01 TCGA-VS-A8QH-01 TCGA-MY-A5BF-01\n",
       "ENSG00000000003 5349            2661            4561            1884           \n",
       "ENSG00000000005    1               0              36               2           \n",
       "ENSG00000000460  494             273             337             834           \n",
       "ENSG00000000938  177              74             115             350           \n",
       "ENSG00000001084 1406             979            2754            1240           \n",
       "ENSG00000001561 2376            1611            1286             992           \n",
       "                TCGA-JW-A5VJ-01 TCGA-C5-A1BN-01 ⋯ TCGA-W5-AA38-01\n",
       "ENSG00000000003 1582            1869            ⋯ 8249           \n",
       "ENSG00000000005    0               0            ⋯    1           \n",
       "ENSG00000000460  603            1868            ⋯  297           \n",
       "ENSG00000000938  401              81            ⋯  182           \n",
       "ENSG00000001084  615            3346            ⋯ 2055           \n",
       "ENSG00000001561  227              49            ⋯  772           \n",
       "                TCGA-4G-AAZO-01 TCGA-ZD-A8I3-01 TCGA-W5-AA2O-01 TCGA-ZH-A8Y6-01\n",
       "ENSG00000000003 1631            5254            2883             576           \n",
       "ENSG00000000005    0               1               0               0           \n",
       "ENSG00000000460  162             370             358             254           \n",
       "ENSG00000000938  137             143             248             103           \n",
       "ENSG00000001084  447            2180            1266            2642           \n",
       "ENSG00000001561  654             881             686            2245           \n",
       "                TCGA-W6-AA0S-01 TCGA-W5-AA33-01 TCGA-YR-A95A-01 TCGA-W5-AA2I-01\n",
       "ENSG00000000003 3632            11342           10086           4245           \n",
       "ENSG00000000005    1                1              10              0           \n",
       "ENSG00000000460  185              390             166            307           \n",
       "ENSG00000000938  570              668             151            118           \n",
       "ENSG00000001084 1136             2608            3206           1715           \n",
       "ENSG00000001561  816             1640            1052            613           \n",
       "                TCGA-W5-AA34-01\n",
       "ENSG00000000003 8150           \n",
       "ENSG00000000005    0           \n",
       "ENSG00000000460  378           \n",
       "ENSG00000000938  223           \n",
       "ENSG00000001084 1853           \n",
       "ENSG00000001561 1313           "
      ]
     },
     "metadata": {},
     "output_type": "display_data"
    }
   ],
   "source": [
    "countData <- read.table('/public/workspace/ryrl/projects/classmates/ryrl/Cancers/TCGA/intermediate/luad_lusc_counts.txt',\n",
    "    header = T, row.names = 1, sep = '\\t', check.names = F) %>% as.matrix()\n",
    "countData <- countData[grep('ENSG', x = rownames(countData)),]\n",
    "head(countData)"
   ]
  },
  {
   "cell_type": "code",
   "execution_count": 35,
   "metadata": {
    "vscode": {
     "languageId": "r"
    }
   },
   "outputs": [
    {
     "data": {
      "text/plain": [
       "\n",
       "TRUE \n",
       "8232 "
      ]
     },
     "metadata": {},
     "output_type": "display_data"
    }
   ],
   "source": [
    "table(metaInfo['Sample'] == colnames(countData))"
   ]
  },
  {
   "cell_type": "code",
   "execution_count": 37,
   "metadata": {
    "vscode": {
     "languageId": "r"
    }
   },
   "outputs": [
    {
     "data": {
      "text/html": [
       "<style>\n",
       ".list-inline {list-style: none; margin:0; padding: 0}\n",
       ".list-inline>li {display: inline-block}\n",
       ".list-inline>li:not(:last-child)::after {content: \"\\00b7\"; padding: 0 .5ex}\n",
       "</style>\n",
       "<ol class=list-inline><li>14086</li><li>8232</li></ol>\n"
      ],
      "text/latex": [
       "\\begin{enumerate*}\n",
       "\\item 14086\n",
       "\\item 8232\n",
       "\\end{enumerate*}\n"
      ],
      "text/markdown": [
       "1. 14086\n",
       "2. 8232\n",
       "\n",
       "\n"
      ],
      "text/plain": [
       "[1] 14086  8232"
      ]
     },
     "metadata": {},
     "output_type": "display_data"
    }
   ],
   "source": [
    "dim(countData)"
   ]
  },
  {
   "cell_type": "code",
   "execution_count": 59,
   "metadata": {
    "vscode": {
     "languageId": "r"
    }
   },
   "outputs": [
    {
     "data": {
      "text/html": [
       "157"
      ],
      "text/latex": [
       "157"
      ],
      "text/markdown": [
       "157"
      ],
      "text/plain": [
       "[1] 157"
      ]
     },
     "metadata": {},
     "output_type": "display_data"
    }
   ],
   "source": [
    "genes <- read.table('/public/workspace/ryrl/projects/classmates/ryrl/Cancers/TCGA/select_genes/luad_lusc_unique_ensemble_ids.txt', sep = '\\t', header = T)$EnsembleID\n",
    "length(genes)"
   ]
  },
  {
   "cell_type": "code",
   "execution_count": 60,
   "metadata": {
    "vscode": {
     "languageId": "r"
    }
   },
   "outputs": [
    {
     "data": {
      "text/plain": [
       "\n",
       "FALSE \n",
       "  157 "
      ]
     },
     "metadata": {},
     "output_type": "display_data"
    }
   ],
   "source": [
    "table(duplicated(genes))"
   ]
  },
  {
   "cell_type": "code",
   "execution_count": 61,
   "metadata": {
    "vscode": {
     "languageId": "r"
    }
   },
   "outputs": [
    {
     "data": {
      "text/html": [
       "<style>\n",
       ".list-inline {list-style: none; margin:0; padding: 0}\n",
       ".list-inline>li {display: inline-block}\n",
       ".list-inline>li:not(:last-child)::after {content: \"\\00b7\"; padding: 0 .5ex}\n",
       "</style>\n",
       "<ol class=list-inline><li>157</li><li>8232</li></ol>\n"
      ],
      "text/latex": [
       "\\begin{enumerate*}\n",
       "\\item 157\n",
       "\\item 8232\n",
       "\\end{enumerate*}\n"
      ],
      "text/markdown": [
       "1. 157\n",
       "2. 8232\n",
       "\n",
       "\n"
      ],
      "text/plain": [
       "[1]  157 8232"
      ]
     },
     "metadata": {},
     "output_type": "display_data"
    }
   ],
   "source": [
    "metaInfo$Group_ <- ifelse(metaInfo$Cancer %in% c('LUSC', 'LUAD'), 'target', 'reference')\n",
    "metaInfo$Group_ = factor(metaInfo$Group_, levels = c('target', 'reference'))\n",
    "countData_ <- countData[genes,]\n",
    "dim(countData_)"
   ]
  },
  {
   "cell_type": "code",
   "execution_count": 62,
   "metadata": {
    "vscode": {
     "languageId": "r"
    }
   },
   "outputs": [
    {
     "data": {
      "text/plain": [
       "\n",
       "   target reference \n",
       "     1016      7216 "
      ]
     },
     "metadata": {},
     "output_type": "display_data"
    }
   ],
   "source": [
    "table(metaInfo$Group_)"
   ]
  },
  {
   "cell_type": "code",
   "execution_count": 64,
   "metadata": {
    "vscode": {
     "languageId": "r"
    }
   },
   "outputs": [
    {
     "data": {
      "text/html": [
       "<style>\n",
       ".list-inline {list-style: none; margin:0; padding: 0}\n",
       ".list-inline>li {display: inline-block}\n",
       ".list-inline>li:not(:last-child)::after {content: \"\\00b7\"; padding: 0 .5ex}\n",
       "</style>\n",
       "<ol class=list-inline><li>1016</li><li>5</li></ol>\n"
      ],
      "text/latex": [
       "\\begin{enumerate*}\n",
       "\\item 1016\n",
       "\\item 5\n",
       "\\end{enumerate*}\n"
      ],
      "text/markdown": [
       "1. 1016\n",
       "2. 5\n",
       "\n",
       "\n"
      ],
      "text/plain": [
       "[1] 1016    5"
      ]
     },
     "metadata": {},
     "output_type": "display_data"
    }
   ],
   "source": [
    "dim(metaInfo[metaInfo$Cancer %in% c('LUSC', 'LUAD'),])"
   ]
  },
  {
   "cell_type": "code",
   "execution_count": 65,
   "metadata": {
    "vscode": {
     "languageId": "r"
    }
   },
   "outputs": [
    {
     "data": {
      "text/plain": [
       "class: DESeqDataSet \n",
       "dim: 157 8232 \n",
       "metadata(1): version\n",
       "assays(1): counts\n",
       "rownames(157): ENSG00000032444 ENSG00000064999 ... ENSG00000280655\n",
       "  ENSG00000281550\n",
       "rowData names(0):\n",
       "colnames(8232): TCGA-FU-A3HZ-01 TCGA-DR-A0ZM-01 ... TCGA-W5-AA2I-01\n",
       "  TCGA-W5-AA34-01\n",
       "colData names(5): Sample Cancer Group DataBase Group_"
      ]
     },
     "metadata": {},
     "output_type": "display_data"
    }
   ],
   "source": [
    "dds <- DESeqDataSetFromMatrix(\n",
    "    countData = countData_,\n",
    "    colData = metaInfo,\n",
    "    design = ~ Group_\n",
    ")\n",
    "dds"
   ]
  },
  {
   "cell_type": "code",
   "execution_count": 66,
   "metadata": {
    "vscode": {
     "languageId": "r"
    }
   },
   "outputs": [
    {
     "data": {
      "text/html": [
       "<style>\n",
       ".list-inline {list-style: none; margin:0; padding: 0}\n",
       ".list-inline>li {display: inline-block}\n",
       ".list-inline>li:not(:last-child)::after {content: \"\\00b7\"; padding: 0 .5ex}\n",
       "</style>\n",
       "<ol class=list-inline><li>157</li><li>8232</li></ol>\n"
      ],
      "text/latex": [
       "\\begin{enumerate*}\n",
       "\\item 157\n",
       "\\item 8232\n",
       "\\end{enumerate*}\n"
      ],
      "text/markdown": [
       "1. 157\n",
       "2. 8232\n",
       "\n",
       "\n"
      ],
      "text/plain": [
       "[1]  157 8232"
      ]
     },
     "metadata": {},
     "output_type": "display_data"
    }
   ],
   "source": [
    "dim(countData_)"
   ]
  },
  {
   "cell_type": "code",
   "execution_count": 67,
   "metadata": {
    "vscode": {
     "languageId": "r"
    }
   },
   "outputs": [],
   "source": [
    "smallestGroupSize <- .5\n",
    "keep <- rowSums(counts(dds) > 0) / ncol(countData) >= smallestGroupSize\n",
    "dds <- dds[keep,]"
   ]
  },
  {
   "cell_type": "code",
   "execution_count": 68,
   "metadata": {
    "vscode": {
     "languageId": "r"
    }
   },
   "outputs": [
    {
     "name": "stderr",
     "output_type": "stream",
     "text": [
      "estimating size factors\n",
      "\n",
      "estimating dispersions\n",
      "\n",
      "gene-wise dispersion estimates\n",
      "\n",
      "mean-dispersion relationship\n",
      "\n",
      "final dispersion estimates\n",
      "\n",
      "fitting model and testing\n",
      "\n",
      "-- replacing outliers and refitting for 2 genes\n",
      "-- DESeq argument 'minReplicatesForReplace' = 7 \n",
      "-- original counts are preserved in counts(dds)\n",
      "\n",
      "estimating dispersions\n",
      "\n",
      "fitting model and testing\n",
      "\n"
     ]
    }
   ],
   "source": [
    "dds <- DESeq(dds)"
   ]
  },
  {
   "cell_type": "code",
   "execution_count": 69,
   "metadata": {
    "vscode": {
     "languageId": "r"
    }
   },
   "outputs": [
    {
     "data": {
      "text/html": [
       "<table class=\"dataframe\">\n",
       "<caption>A data.frame: 6 × 7</caption>\n",
       "<thead>\n",
       "\t<tr><th></th><th scope=col>row</th><th scope=col>baseMean</th><th scope=col>log2FoldChange</th><th scope=col>lfcSE</th><th scope=col>stat</th><th scope=col>pvalue</th><th scope=col>padj</th></tr>\n",
       "\t<tr><th></th><th scope=col>&lt;chr&gt;</th><th scope=col>&lt;dbl&gt;</th><th scope=col>&lt;dbl&gt;</th><th scope=col>&lt;dbl&gt;</th><th scope=col>&lt;dbl&gt;</th><th scope=col>&lt;dbl&gt;</th><th scope=col>&lt;dbl&gt;</th></tr>\n",
       "</thead>\n",
       "<tbody>\n",
       "\t<tr><th scope=row>1</th><td>ENSG00000032444</td><td>3562.25844</td><td>-0.27270447</td><td>0.02162072</td><td>-12.613107</td><td>1.788019e-36</td><td>7.549414e-36</td></tr>\n",
       "\t<tr><th scope=row>2</th><td>ENSG00000064999</td><td>2548.50826</td><td>-0.07487034</td><td>0.02240760</td><td> -3.341292</td><td>8.338952e-04</td><td>1.022194e-03</td></tr>\n",
       "\t<tr><th scope=row>3</th><td>ENSG00000070614</td><td>6227.43896</td><td>-0.48217248</td><td>0.02595000</td><td>-18.580830</td><td>4.593473e-77</td><td>5.818399e-76</td></tr>\n",
       "\t<tr><th scope=row>4</th><td>ENSG00000080572</td><td>  10.93696</td><td> 1.49393982</td><td>0.12514264</td><td> 11.937896</td><td>7.509848e-33</td><td>2.594311e-32</td></tr>\n",
       "\t<tr><th scope=row>5</th><td>ENSG00000086544</td><td>2868.55934</td><td> 0.35690400</td><td>0.03129331</td><td> 11.405120</td><td>3.942332e-30</td><td>9.987241e-30</td></tr>\n",
       "\t<tr><th scope=row>6</th><td>ENSG00000100442</td><td>2521.11338</td><td>-0.08202149</td><td>0.02153467</td><td> -3.808811</td><td>1.396364e-04</td><td>1.895065e-04</td></tr>\n",
       "</tbody>\n",
       "</table>\n"
      ],
      "text/latex": [
       "A data.frame: 6 × 7\n",
       "\\begin{tabular}{r|lllllll}\n",
       "  & row & baseMean & log2FoldChange & lfcSE & stat & pvalue & padj\\\\\n",
       "  & <chr> & <dbl> & <dbl> & <dbl> & <dbl> & <dbl> & <dbl>\\\\\n",
       "\\hline\n",
       "\t1 & ENSG00000032444 & 3562.25844 & -0.27270447 & 0.02162072 & -12.613107 & 1.788019e-36 & 7.549414e-36\\\\\n",
       "\t2 & ENSG00000064999 & 2548.50826 & -0.07487034 & 0.02240760 &  -3.341292 & 8.338952e-04 & 1.022194e-03\\\\\n",
       "\t3 & ENSG00000070614 & 6227.43896 & -0.48217248 & 0.02595000 & -18.580830 & 4.593473e-77 & 5.818399e-76\\\\\n",
       "\t4 & ENSG00000080572 &   10.93696 &  1.49393982 & 0.12514264 &  11.937896 & 7.509848e-33 & 2.594311e-32\\\\\n",
       "\t5 & ENSG00000086544 & 2868.55934 &  0.35690400 & 0.03129331 &  11.405120 & 3.942332e-30 & 9.987241e-30\\\\\n",
       "\t6 & ENSG00000100442 & 2521.11338 & -0.08202149 & 0.02153467 &  -3.808811 & 1.396364e-04 & 1.895065e-04\\\\\n",
       "\\end{tabular}\n"
      ],
      "text/markdown": [
       "\n",
       "A data.frame: 6 × 7\n",
       "\n",
       "| <!--/--> | row &lt;chr&gt; | baseMean &lt;dbl&gt; | log2FoldChange &lt;dbl&gt; | lfcSE &lt;dbl&gt; | stat &lt;dbl&gt; | pvalue &lt;dbl&gt; | padj &lt;dbl&gt; |\n",
       "|---|---|---|---|---|---|---|---|\n",
       "| 1 | ENSG00000032444 | 3562.25844 | -0.27270447 | 0.02162072 | -12.613107 | 1.788019e-36 | 7.549414e-36 |\n",
       "| 2 | ENSG00000064999 | 2548.50826 | -0.07487034 | 0.02240760 |  -3.341292 | 8.338952e-04 | 1.022194e-03 |\n",
       "| 3 | ENSG00000070614 | 6227.43896 | -0.48217248 | 0.02595000 | -18.580830 | 4.593473e-77 | 5.818399e-76 |\n",
       "| 4 | ENSG00000080572 |   10.93696 |  1.49393982 | 0.12514264 |  11.937896 | 7.509848e-33 | 2.594311e-32 |\n",
       "| 5 | ENSG00000086544 | 2868.55934 |  0.35690400 | 0.03129331 |  11.405120 | 3.942332e-30 | 9.987241e-30 |\n",
       "| 6 | ENSG00000100442 | 2521.11338 | -0.08202149 | 0.02153467 |  -3.808811 | 1.396364e-04 | 1.895065e-04 |\n",
       "\n"
      ],
      "text/plain": [
       "  row             baseMean   log2FoldChange lfcSE      stat       pvalue      \n",
       "1 ENSG00000032444 3562.25844 -0.27270447    0.02162072 -12.613107 1.788019e-36\n",
       "2 ENSG00000064999 2548.50826 -0.07487034    0.02240760  -3.341292 8.338952e-04\n",
       "3 ENSG00000070614 6227.43896 -0.48217248    0.02595000 -18.580830 4.593473e-77\n",
       "4 ENSG00000080572   10.93696  1.49393982    0.12514264  11.937896 7.509848e-33\n",
       "5 ENSG00000086544 2868.55934  0.35690400    0.03129331  11.405120 3.942332e-30\n",
       "6 ENSG00000100442 2521.11338 -0.08202149    0.02153467  -3.808811 1.396364e-04\n",
       "  padj        \n",
       "1 7.549414e-36\n",
       "2 1.022194e-03\n",
       "3 5.818399e-76\n",
       "4 2.594311e-32\n",
       "5 9.987241e-30\n",
       "6 1.895065e-04"
      ]
     },
     "metadata": {},
     "output_type": "display_data"
    }
   ],
   "source": [
    "res <- results(dds, contrast=c(\"Group_\", 'target', 'reference'), tidy = T)\n",
    "head(res)"
   ]
  },
  {
   "cell_type": "code",
   "execution_count": 70,
   "metadata": {
    "vscode": {
     "languageId": "r"
    }
   },
   "outputs": [
    {
     "data": {
      "text/html": [
       "<style>\n",
       ".list-inline {list-style: none; margin:0; padding: 0}\n",
       ".list-inline>li {display: inline-block}\n",
       ".list-inline>li:not(:last-child)::after {content: \"\\00b7\"; padding: 0 .5ex}\n",
       "</style>\n",
       "<ol class=list-inline><li>38</li><li>7</li></ol>\n"
      ],
      "text/latex": [
       "\\begin{enumerate*}\n",
       "\\item 38\n",
       "\\item 7\n",
       "\\end{enumerate*}\n"
      ],
      "text/markdown": [
       "1. 38\n",
       "2. 7\n",
       "\n",
       "\n"
      ],
      "text/plain": [
       "[1] 38  7"
      ]
     },
     "metadata": {},
     "output_type": "display_data"
    }
   ],
   "source": [
    "dim(res)"
   ]
  },
  {
   "cell_type": "code",
   "execution_count": 71,
   "metadata": {
    "vscode": {
     "languageId": "r"
    }
   },
   "outputs": [
    {
     "data": {
      "text/html": [
       "<style>\n",
       ".list-inline {list-style: none; margin:0; padding: 0}\n",
       ".list-inline>li {display: inline-block}\n",
       ".list-inline>li:not(:last-child)::after {content: \"\\00b7\"; padding: 0 .5ex}\n",
       "</style>\n",
       "<ol class=list-inline><li>8232</li><li>7</li></ol>\n"
      ],
      "text/latex": [
       "\\begin{enumerate*}\n",
       "\\item 8232\n",
       "\\item 7\n",
       "\\end{enumerate*}\n"
      ],
      "text/markdown": [
       "1. 8232\n",
       "2. 7\n",
       "\n",
       "\n"
      ],
      "text/plain": [
       "[1] 8232    7"
      ]
     },
     "metadata": {},
     "output_type": "display_data"
    }
   ],
   "source": [
    "dim(dds@colData)"
   ]
  },
  {
   "cell_type": "code",
   "execution_count": 72,
   "metadata": {
    "vscode": {
     "languageId": "r"
    }
   },
   "outputs": [],
   "source": [
    "readr::write_tsv(res, '/public/workspace/ryrl/projects/classmates/ryrl/Cancers/TCGA/results/LUAD_LUSC/luad_lusc_unique.txt')"
   ]
  },
  {
   "cell_type": "code",
   "execution_count": null,
   "metadata": {
    "vscode": {
     "languageId": "r"
    }
   },
   "outputs": [],
   "source": []
  },
  {
   "cell_type": "code",
   "execution_count": null,
   "metadata": {
    "vscode": {
     "languageId": "r"
    }
   },
   "outputs": [],
   "source": []
  },
  {
   "cell_type": "code",
   "execution_count": null,
   "metadata": {
    "vscode": {
     "languageId": "r"
    }
   },
   "outputs": [],
   "source": []
  },
  {
   "cell_type": "code",
   "execution_count": null,
   "metadata": {
    "vscode": {
     "languageId": "r"
    }
   },
   "outputs": [],
   "source": []
  },
  {
   "cell_type": "code",
   "execution_count": null,
   "metadata": {
    "vscode": {
     "languageId": "r"
    }
   },
   "outputs": [],
   "source": []
  },
  {
   "cell_type": "code",
   "execution_count": null,
   "metadata": {
    "vscode": {
     "languageId": "r"
    }
   },
   "outputs": [],
   "source": []
  },
  {
   "cell_type": "code",
   "execution_count": null,
   "metadata": {
    "vscode": {
     "languageId": "r"
    }
   },
   "outputs": [],
   "source": []
  },
  {
   "cell_type": "code",
   "execution_count": null,
   "metadata": {
    "vscode": {
     "languageId": "r"
    }
   },
   "outputs": [],
   "source": []
  },
  {
   "cell_type": "code",
   "execution_count": null,
   "metadata": {
    "vscode": {
     "languageId": "r"
    }
   },
   "outputs": [],
   "source": []
  },
  {
   "cell_type": "code",
   "execution_count": null,
   "metadata": {
    "vscode": {
     "languageId": "r"
    }
   },
   "outputs": [],
   "source": []
  },
  {
   "cell_type": "code",
   "execution_count": null,
   "metadata": {
    "vscode": {
     "languageId": "r"
    }
   },
   "outputs": [],
   "source": []
  },
  {
   "cell_type": "code",
   "execution_count": null,
   "metadata": {
    "vscode": {
     "languageId": "r"
    }
   },
   "outputs": [],
   "source": []
  },
  {
   "cell_type": "code",
   "execution_count": null,
   "metadata": {
    "vscode": {
     "languageId": "r"
    }
   },
   "outputs": [],
   "source": []
  },
  {
   "cell_type": "code",
   "execution_count": null,
   "metadata": {
    "vscode": {
     "languageId": "r"
    }
   },
   "outputs": [],
   "source": []
  }
 ],
 "metadata": {
  "kernelspec": {
   "display_name": "R",
   "language": "R",
   "name": "ir"
  },
  "language_info": {
   "codemirror_mode": "r",
   "file_extension": ".r",
   "mimetype": "text/x-r-source",
   "name": "R",
   "pygments_lexer": "r",
   "version": "4.1.3"
  }
 },
 "nbformat": 4,
 "nbformat_minor": 2
}
