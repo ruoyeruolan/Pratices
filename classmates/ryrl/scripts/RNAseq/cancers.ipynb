{
 "cells": [
  {
   "cell_type": "code",
   "execution_count": 1,
   "metadata": {
    "vscode": {
     "languageId": "r"
    }
   },
   "outputs": [],
   "source": [
    "import os\n",
    "import pandas as pd"
   ]
  },
  {
   "cell_type": "code",
   "execution_count": 48,
   "metadata": {
    "vscode": {
     "languageId": "r"
    }
   },
   "outputs": [
    {
     "data": {
      "text/plain": [
       "32"
      ]
     },
     "execution_count": 48,
     "metadata": {},
     "output_type": "execute_result"
    }
   ],
   "source": [
    "import os\n",
    "dirs = '/public/workspace/ryrl/projects/classmates/ryrl/Cancers/TCGA'\n",
    "files = os.listdir(f'{dirs}/Counts')\n",
    "len(files)"
   ]
  },
  {
   "cell_type": "code",
   "execution_count": 49,
   "metadata": {
    "vscode": {
     "languageId": "r"
    }
   },
   "outputs": [
    {
     "name": "stdout",
     "output_type": "stream",
     "text": [
      "Processing Cancer: CESC\n",
      "Processing Cancer: SARC\n",
      "Processing Cancer: KIRP\n",
      "Processing Cancer: BRCA\n",
      "Processing Cancer: MESO\n",
      "Processing Cancer: GBM\n",
      "Processing Cancer: COAD\n",
      "Processing Cancer: PAAD\n",
      "Processing Cancer: LIHC\n",
      "Processing Cancer: TGCT\n",
      "Processing Cancer: UCEC\n",
      "Processing Cancer: LUSC\n",
      "Processing Cancer: HNSC\n",
      "Processing Cancer: KICH\n",
      "Processing Cancer: LGG\n",
      "Processing Cancer: UCS\n",
      "Processing Cancer: THCA\n",
      "Processing Cancer: ESCA\n",
      "Processing Cancer: READ\n",
      "Processing Cancer: UVM\n",
      "Processing Cancer: BLCA\n",
      "Processing Cancer: ACC\n",
      "Processing Cancer: PRAD\n",
      "Processing Cancer: KIRC\n",
      "Processing Cancer: LUAD\n",
      "Processing Cancer: THYM\n",
      "Processing Cancer: PCPG\n",
      "Processing Cancer: DLBC\n",
      "Processing Cancer: OV\n",
      "Processing Cancer: CHOL\n",
      "Processing Cancer: STAD\n",
      "Processing Cancer: SKCM\n"
     ]
    },
    {
     "data": {
      "text/plain": [
       "(60488, 10856)"
      ]
     },
     "execution_count": 49,
     "metadata": {},
     "output_type": "execute_result"
    }
   ],
   "source": [
    "lst = []\n",
    "for file in files:\n",
    "    print(f'Processing Cancer: {file.split(\".\")[0]}')\n",
    "    df = pd.read_csv(f'{dirs}/Counts/{file}', sep='\\t', header=0, index_col=0)\n",
    "    lst.append(df)\n",
    "df = pd.concat(lst, axis=1, join='outer')  # outer: (60488, 10856)\n",
    "df.shape"
   ]
  },
  {
   "cell_type": "code",
   "execution_count": 50,
   "metadata": {
    "vscode": {
     "languageId": "r"
    }
   },
   "outputs": [
    {
     "name": "stdout",
     "output_type": "stream",
     "text": [
      "(8232, 4)\n"
     ]
    },
    {
     "data": {
      "text/html": [
       "<div>\n",
       "<style scoped>\n",
       "    .dataframe tbody tr th:only-of-type {\n",
       "        vertical-align: middle;\n",
       "    }\n",
       "\n",
       "    .dataframe tbody tr th {\n",
       "        vertical-align: top;\n",
       "    }\n",
       "\n",
       "    .dataframe thead th {\n",
       "        text-align: right;\n",
       "    }\n",
       "</style>\n",
       "<table border=\"1\" class=\"dataframe\">\n",
       "  <thead>\n",
       "    <tr style=\"text-align: right;\">\n",
       "      <th></th>\n",
       "      <th>Sample</th>\n",
       "      <th>Cancer</th>\n",
       "      <th>Group</th>\n",
       "      <th>DataBase</th>\n",
       "    </tr>\n",
       "  </thead>\n",
       "  <tbody>\n",
       "    <tr>\n",
       "      <th>0</th>\n",
       "      <td>TCGA-FU-A3HZ-01</td>\n",
       "      <td>CESC</td>\n",
       "      <td>Tumor</td>\n",
       "      <td>TCGA</td>\n",
       "    </tr>\n",
       "    <tr>\n",
       "      <th>1</th>\n",
       "      <td>TCGA-DR-A0ZM-01</td>\n",
       "      <td>CESC</td>\n",
       "      <td>Tumor</td>\n",
       "      <td>TCGA</td>\n",
       "    </tr>\n",
       "    <tr>\n",
       "      <th>2</th>\n",
       "      <td>TCGA-IR-A3LB-01</td>\n",
       "      <td>CESC</td>\n",
       "      <td>Tumor</td>\n",
       "      <td>TCGA</td>\n",
       "    </tr>\n",
       "    <tr>\n",
       "      <th>3</th>\n",
       "      <td>TCGA-DG-A2KJ-01</td>\n",
       "      <td>CESC</td>\n",
       "      <td>Tumor</td>\n",
       "      <td>TCGA</td>\n",
       "    </tr>\n",
       "    <tr>\n",
       "      <th>4</th>\n",
       "      <td>TCGA-C5-A7CM-01</td>\n",
       "      <td>CESC</td>\n",
       "      <td>Tumor</td>\n",
       "      <td>TCGA</td>\n",
       "    </tr>\n",
       "  </tbody>\n",
       "</table>\n",
       "</div>"
      ],
      "text/plain": [
       "            Sample Cancer  Group DataBase\n",
       "0  TCGA-FU-A3HZ-01   CESC  Tumor     TCGA\n",
       "1  TCGA-DR-A0ZM-01   CESC  Tumor     TCGA\n",
       "2  TCGA-IR-A3LB-01   CESC  Tumor     TCGA\n",
       "3  TCGA-DG-A2KJ-01   CESC  Tumor     TCGA\n",
       "4  TCGA-C5-A7CM-01   CESC  Tumor     TCGA"
      ]
     },
     "execution_count": 50,
     "metadata": {},
     "output_type": "execute_result"
    }
   ],
   "source": [
    "metaInfo = pd.read_csv(f'{dirs}/Meta/metaInfo.txt', sep='\\t', header=0).query('Group != \"Normal\"')\n",
    "# metaInfo = metaInfo.set_index('Sample')\n",
    "print(metaInfo.shape)\n",
    "metaInfo.head()"
   ]
  },
  {
   "cell_type": "code",
   "execution_count": 53,
   "metadata": {
    "vscode": {
     "languageId": "r"
    }
   },
   "outputs": [
    {
     "name": "stdout",
     "output_type": "stream",
     "text": [
      "(60488, 8232)\n"
     ]
    },
    {
     "data": {
      "text/html": [
       "<div>\n",
       "<style scoped>\n",
       "    .dataframe tbody tr th:only-of-type {\n",
       "        vertical-align: middle;\n",
       "    }\n",
       "\n",
       "    .dataframe tbody tr th {\n",
       "        vertical-align: top;\n",
       "    }\n",
       "\n",
       "    .dataframe thead th {\n",
       "        text-align: right;\n",
       "    }\n",
       "</style>\n",
       "<table border=\"1\" class=\"dataframe\">\n",
       "  <thead>\n",
       "    <tr style=\"text-align: right;\">\n",
       "      <th></th>\n",
       "      <th>TCGA-FU-A3HZ-01</th>\n",
       "      <th>TCGA-DR-A0ZM-01</th>\n",
       "      <th>TCGA-IR-A3LB-01</th>\n",
       "      <th>TCGA-DG-A2KJ-01</th>\n",
       "      <th>TCGA-C5-A7CM-01</th>\n",
       "      <th>TCGA-VS-A9UJ-01</th>\n",
       "      <th>TCGA-VS-A8QH-01</th>\n",
       "      <th>TCGA-MY-A5BF-01</th>\n",
       "      <th>TCGA-JW-A5VJ-01</th>\n",
       "      <th>TCGA-C5-A1BN-01</th>\n",
       "      <th>...</th>\n",
       "      <th>TCGA-W5-AA38-01</th>\n",
       "      <th>TCGA-4G-AAZO-01</th>\n",
       "      <th>TCGA-ZD-A8I3-01</th>\n",
       "      <th>TCGA-W5-AA2O-01</th>\n",
       "      <th>TCGA-ZH-A8Y6-01</th>\n",
       "      <th>TCGA-W6-AA0S-01</th>\n",
       "      <th>TCGA-W5-AA33-01</th>\n",
       "      <th>TCGA-YR-A95A-01</th>\n",
       "      <th>TCGA-W5-AA2I-01</th>\n",
       "      <th>TCGA-W5-AA34-01</th>\n",
       "    </tr>\n",
       "    <tr>\n",
       "      <th>Tag</th>\n",
       "      <th></th>\n",
       "      <th></th>\n",
       "      <th></th>\n",
       "      <th></th>\n",
       "      <th></th>\n",
       "      <th></th>\n",
       "      <th></th>\n",
       "      <th></th>\n",
       "      <th></th>\n",
       "      <th></th>\n",
       "      <th></th>\n",
       "      <th></th>\n",
       "      <th></th>\n",
       "      <th></th>\n",
       "      <th></th>\n",
       "      <th></th>\n",
       "      <th></th>\n",
       "      <th></th>\n",
       "      <th></th>\n",
       "      <th></th>\n",
       "      <th></th>\n",
       "    </tr>\n",
       "  </thead>\n",
       "  <tbody>\n",
       "    <tr>\n",
       "      <th>__no_feature</th>\n",
       "      <td>1654390</td>\n",
       "      <td>3537987</td>\n",
       "      <td>7273830</td>\n",
       "      <td>1191587</td>\n",
       "      <td>3485950</td>\n",
       "      <td>2197712</td>\n",
       "      <td>3292523</td>\n",
       "      <td>1480655</td>\n",
       "      <td>4193032</td>\n",
       "      <td>2828866</td>\n",
       "      <td>...</td>\n",
       "      <td>2090335</td>\n",
       "      <td>2363745</td>\n",
       "      <td>3790293</td>\n",
       "      <td>2577305</td>\n",
       "      <td>3901668</td>\n",
       "      <td>2666893</td>\n",
       "      <td>4283837</td>\n",
       "      <td>3930144</td>\n",
       "      <td>2977471</td>\n",
       "      <td>2501370</td>\n",
       "    </tr>\n",
       "    <tr>\n",
       "      <th>__ambiguous</th>\n",
       "      <td>1773675</td>\n",
       "      <td>2502648</td>\n",
       "      <td>3758482</td>\n",
       "      <td>2060738</td>\n",
       "      <td>2535108</td>\n",
       "      <td>1551408</td>\n",
       "      <td>1844548</td>\n",
       "      <td>1722066</td>\n",
       "      <td>2342046</td>\n",
       "      <td>2098926</td>\n",
       "      <td>...</td>\n",
       "      <td>2764600</td>\n",
       "      <td>1237672</td>\n",
       "      <td>2578193</td>\n",
       "      <td>2341121</td>\n",
       "      <td>2000562</td>\n",
       "      <td>2163449</td>\n",
       "      <td>1827737</td>\n",
       "      <td>2014772</td>\n",
       "      <td>2057255</td>\n",
       "      <td>2174584</td>\n",
       "    </tr>\n",
       "    <tr>\n",
       "      <th>__too_low_aQual</th>\n",
       "      <td>0</td>\n",
       "      <td>0</td>\n",
       "      <td>0</td>\n",
       "      <td>0</td>\n",
       "      <td>0</td>\n",
       "      <td>0</td>\n",
       "      <td>0</td>\n",
       "      <td>0</td>\n",
       "      <td>0</td>\n",
       "      <td>0</td>\n",
       "      <td>...</td>\n",
       "      <td>0</td>\n",
       "      <td>0</td>\n",
       "      <td>0</td>\n",
       "      <td>0</td>\n",
       "      <td>0</td>\n",
       "      <td>0</td>\n",
       "      <td>0</td>\n",
       "      <td>0</td>\n",
       "      <td>0</td>\n",
       "      <td>0</td>\n",
       "    </tr>\n",
       "    <tr>\n",
       "      <th>__not_aligned</th>\n",
       "      <td>0</td>\n",
       "      <td>0</td>\n",
       "      <td>0</td>\n",
       "      <td>0</td>\n",
       "      <td>0</td>\n",
       "      <td>0</td>\n",
       "      <td>0</td>\n",
       "      <td>0</td>\n",
       "      <td>0</td>\n",
       "      <td>0</td>\n",
       "      <td>...</td>\n",
       "      <td>0</td>\n",
       "      <td>0</td>\n",
       "      <td>0</td>\n",
       "      <td>0</td>\n",
       "      <td>0</td>\n",
       "      <td>0</td>\n",
       "      <td>0</td>\n",
       "      <td>0</td>\n",
       "      <td>0</td>\n",
       "      <td>0</td>\n",
       "    </tr>\n",
       "    <tr>\n",
       "      <th>__alignment_not_unique</th>\n",
       "      <td>11773892</td>\n",
       "      <td>36807876</td>\n",
       "      <td>25081225</td>\n",
       "      <td>15601392</td>\n",
       "      <td>19613905</td>\n",
       "      <td>8126044</td>\n",
       "      <td>27997760</td>\n",
       "      <td>18013041</td>\n",
       "      <td>19118751</td>\n",
       "      <td>32983290</td>\n",
       "      <td>...</td>\n",
       "      <td>11525276</td>\n",
       "      <td>8782024</td>\n",
       "      <td>11199091</td>\n",
       "      <td>13538769</td>\n",
       "      <td>10675480</td>\n",
       "      <td>13422974</td>\n",
       "      <td>12184364</td>\n",
       "      <td>14955928</td>\n",
       "      <td>15680341</td>\n",
       "      <td>12940833</td>\n",
       "    </tr>\n",
       "  </tbody>\n",
       "</table>\n",
       "<p>5 rows × 8232 columns</p>\n",
       "</div>"
      ],
      "text/plain": [
       "                        TCGA-FU-A3HZ-01  TCGA-DR-A0ZM-01  TCGA-IR-A3LB-01  \\\n",
       "Tag                                                                         \n",
       "__no_feature                    1654390          3537987          7273830   \n",
       "__ambiguous                     1773675          2502648          3758482   \n",
       "__too_low_aQual                       0                0                0   \n",
       "__not_aligned                         0                0                0   \n",
       "__alignment_not_unique         11773892         36807876         25081225   \n",
       "\n",
       "                        TCGA-DG-A2KJ-01  TCGA-C5-A7CM-01  TCGA-VS-A9UJ-01  \\\n",
       "Tag                                                                         \n",
       "__no_feature                    1191587          3485950          2197712   \n",
       "__ambiguous                     2060738          2535108          1551408   \n",
       "__too_low_aQual                       0                0                0   \n",
       "__not_aligned                         0                0                0   \n",
       "__alignment_not_unique         15601392         19613905          8126044   \n",
       "\n",
       "                        TCGA-VS-A8QH-01  TCGA-MY-A5BF-01  TCGA-JW-A5VJ-01  \\\n",
       "Tag                                                                         \n",
       "__no_feature                    3292523          1480655          4193032   \n",
       "__ambiguous                     1844548          1722066          2342046   \n",
       "__too_low_aQual                       0                0                0   \n",
       "__not_aligned                         0                0                0   \n",
       "__alignment_not_unique         27997760         18013041         19118751   \n",
       "\n",
       "                        TCGA-C5-A1BN-01  ...  TCGA-W5-AA38-01  \\\n",
       "Tag                                      ...                    \n",
       "__no_feature                    2828866  ...          2090335   \n",
       "__ambiguous                     2098926  ...          2764600   \n",
       "__too_low_aQual                       0  ...                0   \n",
       "__not_aligned                         0  ...                0   \n",
       "__alignment_not_unique         32983290  ...         11525276   \n",
       "\n",
       "                        TCGA-4G-AAZO-01  TCGA-ZD-A8I3-01  TCGA-W5-AA2O-01  \\\n",
       "Tag                                                                         \n",
       "__no_feature                    2363745          3790293          2577305   \n",
       "__ambiguous                     1237672          2578193          2341121   \n",
       "__too_low_aQual                       0                0                0   \n",
       "__not_aligned                         0                0                0   \n",
       "__alignment_not_unique          8782024         11199091         13538769   \n",
       "\n",
       "                        TCGA-ZH-A8Y6-01  TCGA-W6-AA0S-01  TCGA-W5-AA33-01  \\\n",
       "Tag                                                                         \n",
       "__no_feature                    3901668          2666893          4283837   \n",
       "__ambiguous                     2000562          2163449          1827737   \n",
       "__too_low_aQual                       0                0                0   \n",
       "__not_aligned                         0                0                0   \n",
       "__alignment_not_unique         10675480         13422974         12184364   \n",
       "\n",
       "                        TCGA-YR-A95A-01  TCGA-W5-AA2I-01  TCGA-W5-AA34-01  \n",
       "Tag                                                                        \n",
       "__no_feature                    3930144          2977471          2501370  \n",
       "__ambiguous                     2014772          2057255          2174584  \n",
       "__too_low_aQual                       0                0                0  \n",
       "__not_aligned                         0                0                0  \n",
       "__alignment_not_unique         14955928         15680341         12940833  \n",
       "\n",
       "[5 rows x 8232 columns]"
      ]
     },
     "execution_count": 53,
     "metadata": {},
     "output_type": "execute_result"
    }
   ],
   "source": [
    "df_ = df[metaInfo['Sample']]\n",
    "print(df_.shape)\n",
    "df_.tail()"
   ]
  },
  {
   "cell_type": "code",
   "execution_count": 54,
   "metadata": {
    "vscode": {
     "languageId": "r"
    }
   },
   "outputs": [
    {
     "data": {
      "text/plain": [
       "np.True_"
      ]
     },
     "execution_count": 54,
     "metadata": {},
     "output_type": "execute_result"
    }
   ],
   "source": [
    "(metaInfo['Sample'] == demo.columns).all()"
   ]
  },
  {
   "cell_type": "code",
   "execution_count": 19,
   "metadata": {
    "vscode": {
     "languageId": "r"
    }
   },
   "outputs": [],
   "source": [
    "# metaInfo.to_csv(f'{dirs}/Meta/metaSub.txt', sep='\\t', header=True, index=False)"
   ]
  },
  {
   "cell_type": "code",
   "execution_count": 22,
   "metadata": {
    "vscode": {
     "languageId": "r"
    }
   },
   "outputs": [
    {
     "data": {
      "text/plain": [
       "DataBase\n",
       "TCGA    8232\n",
       "Name: count, dtype: int64"
      ]
     },
     "execution_count": 22,
     "metadata": {},
     "output_type": "execute_result"
    }
   ],
   "source": [
    "metaInfo['DataBase'].value_counts()"
   ]
  },
  {
   "cell_type": "code",
   "execution_count": 23,
   "metadata": {
    "vscode": {
     "languageId": "r"
    }
   },
   "outputs": [
    {
     "data": {
      "text/plain": [
       "Cancer\n",
       "ACC       79\n",
       "BLCA     408\n",
       "BRCA    1098\n",
       "CESC     306\n",
       "CHOL      36\n",
       "COAD     458\n",
       "DLBC      48\n",
       "ESCA     162\n",
       "GBM      167\n",
       "HNSC     502\n",
       "KICH      65\n",
       "KIRC     531\n",
       "KIRP     289\n",
       "LGG      525\n",
       "LIHC     373\n",
       "LUAD     515\n",
       "LUSC     501\n",
       "MESO      86\n",
       "OV       379\n",
       "PAAD     178\n",
       "PCPG     183\n",
       "PRAD     496\n",
       "READ     167\n",
       "UCEC     544\n",
       "UCS       56\n",
       "UVM       80\n",
       "dtype: int64"
      ]
     },
     "execution_count": 23,
     "metadata": {},
     "output_type": "execute_result"
    }
   ],
   "source": [
    "metaInfo.groupby('Cancer').size()"
   ]
  },
  {
   "cell_type": "code",
   "execution_count": 55,
   "metadata": {
    "vscode": {
     "languageId": "r"
    }
   },
   "outputs": [],
   "source": [
    "df_.to_parquet(f'{dirs}/intermediate/Counts.parquet', index=True, engine='pyarrow')"
   ]
  },
  {
   "cell_type": "code",
   "execution_count": 56,
   "metadata": {
    "vscode": {
     "languageId": "r"
    }
   },
   "outputs": [],
   "source": [
    "df_.to_csv(f'{dirs}/intermediate/Counts.txt', sep='\\t', header=True, index=True)"
   ]
  },
  {
   "cell_type": "code",
   "execution_count": 27,
   "metadata": {
    "vscode": {
     "languageId": "r"
    }
   },
   "outputs": [
    {
     "data": {
      "text/plain": [
       "(60488, 10856)"
      ]
     },
     "execution_count": 27,
     "metadata": {},
     "output_type": "execute_result"
    }
   ],
   "source": [
    "df.shape"
   ]
  },
  {
   "cell_type": "code",
   "execution_count": 29,
   "metadata": {
    "vscode": {
     "languageId": "r"
    }
   },
   "outputs": [
    {
     "data": {
      "text/plain": [
       "np.int64(0)"
      ]
     },
     "execution_count": 29,
     "metadata": {},
     "output_type": "execute_result"
    }
   ],
   "source": [
    "df.columns.duplicated().sum()"
   ]
  },
  {
   "cell_type": "code",
   "execution_count": 30,
   "metadata": {
    "vscode": {
     "languageId": "r"
    }
   },
   "outputs": [
    {
     "data": {
      "text/plain": [
       "26"
      ]
     },
     "execution_count": 30,
     "metadata": {},
     "output_type": "execute_result"
    }
   ],
   "source": [
    "len(metaInfo['Cancer'].unique())"
   ]
  },
  {
   "cell_type": "code",
   "execution_count": 36,
   "metadata": {
    "vscode": {
     "languageId": "r"
    }
   },
   "outputs": [
    {
     "data": {
      "text/html": [
       "<div>\n",
       "<style scoped>\n",
       "    .dataframe tbody tr th:only-of-type {\n",
       "        vertical-align: middle;\n",
       "    }\n",
       "\n",
       "    .dataframe tbody tr th {\n",
       "        vertical-align: top;\n",
       "    }\n",
       "\n",
       "    .dataframe thead th {\n",
       "        text-align: right;\n",
       "    }\n",
       "</style>\n",
       "<table border=\"1\" class=\"dataframe\">\n",
       "  <thead>\n",
       "    <tr style=\"text-align: right;\">\n",
       "      <th></th>\n",
       "      <th>Sample</th>\n",
       "      <th>Cancer</th>\n",
       "      <th>Group</th>\n",
       "      <th>DataBase</th>\n",
       "    </tr>\n",
       "  </thead>\n",
       "  <tbody>\n",
       "    <tr>\n",
       "      <th>0</th>\n",
       "      <td>TCGA-FU-A3HZ-01</td>\n",
       "      <td>CESC</td>\n",
       "      <td>Tumor</td>\n",
       "      <td>TCGA</td>\n",
       "    </tr>\n",
       "    <tr>\n",
       "      <th>1</th>\n",
       "      <td>TCGA-DR-A0ZM-01</td>\n",
       "      <td>CESC</td>\n",
       "      <td>Tumor</td>\n",
       "      <td>TCGA</td>\n",
       "    </tr>\n",
       "    <tr>\n",
       "      <th>2</th>\n",
       "      <td>TCGA-IR-A3LB-01</td>\n",
       "      <td>CESC</td>\n",
       "      <td>Tumor</td>\n",
       "      <td>TCGA</td>\n",
       "    </tr>\n",
       "    <tr>\n",
       "      <th>3</th>\n",
       "      <td>TCGA-DG-A2KJ-01</td>\n",
       "      <td>CESC</td>\n",
       "      <td>Tumor</td>\n",
       "      <td>TCGA</td>\n",
       "    </tr>\n",
       "    <tr>\n",
       "      <th>4</th>\n",
       "      <td>TCGA-C5-A7CM-01</td>\n",
       "      <td>CESC</td>\n",
       "      <td>Tumor</td>\n",
       "      <td>TCGA</td>\n",
       "    </tr>\n",
       "  </tbody>\n",
       "</table>\n",
       "</div>"
      ],
      "text/plain": [
       "            Sample Cancer  Group DataBase\n",
       "0  TCGA-FU-A3HZ-01   CESC  Tumor     TCGA\n",
       "1  TCGA-DR-A0ZM-01   CESC  Tumor     TCGA\n",
       "2  TCGA-IR-A3LB-01   CESC  Tumor     TCGA\n",
       "3  TCGA-DG-A2KJ-01   CESC  Tumor     TCGA\n",
       "4  TCGA-C5-A7CM-01   CESC  Tumor     TCGA"
      ]
     },
     "execution_count": 36,
     "metadata": {},
     "output_type": "execute_result"
    }
   ],
   "source": [
    "metaSub = pd.read_csv(f'{dirs}/Meta/metaSub.txt', sep='\\t', header=0)\n",
    "metaSub.head()"
   ]
  },
  {
   "cell_type": "code",
   "execution_count": 37,
   "metadata": {
    "vscode": {
     "languageId": "r"
    }
   },
   "outputs": [
    {
     "data": {
      "text/plain": [
       "(8232, 4)"
      ]
     },
     "execution_count": 37,
     "metadata": {},
     "output_type": "execute_result"
    }
   ],
   "source": [
    "metaSub.shape"
   ]
  },
  {
   "cell_type": "code",
   "execution_count": null,
   "metadata": {
    "vscode": {
     "languageId": "r"
    }
   },
   "outputs": [
    {
     "data": {
      "text/plain": [
       "(60488, 8232)"
      ]
     },
     "execution_count": 47,
     "metadata": {},
     "output_type": "execute_result"
    }
   ],
   "source": []
  },
  {
   "cell_type": "code",
   "execution_count": null,
   "metadata": {
    "vscode": {
     "languageId": "r"
    }
   },
   "outputs": [],
   "source": [
    "df.to_csv(f'{dirs}/Counts.txt', sep='\\t', header=True, index=True)"
   ]
  },
  {
   "cell_type": "code",
   "execution_count": null,
   "metadata": {
    "vscode": {
     "languageId": "r"
    }
   },
   "outputs": [],
   "source": []
  },
  {
   "cell_type": "code",
   "execution_count": null,
   "metadata": {
    "vscode": {
     "languageId": "r"
    }
   },
   "outputs": [],
   "source": []
  },
  {
   "cell_type": "code",
   "execution_count": null,
   "metadata": {
    "vscode": {
     "languageId": "r"
    }
   },
   "outputs": [],
   "source": []
  },
  {
   "cell_type": "code",
   "execution_count": null,
   "metadata": {
    "vscode": {
     "languageId": "r"
    }
   },
   "outputs": [],
   "source": []
  },
  {
   "cell_type": "code",
   "execution_count": null,
   "metadata": {
    "vscode": {
     "languageId": "r"
    }
   },
   "outputs": [],
   "source": []
  },
  {
   "cell_type": "code",
   "execution_count": null,
   "metadata": {
    "vscode": {
     "languageId": "r"
    }
   },
   "outputs": [],
   "source": []
  },
  {
   "cell_type": "code",
   "execution_count": null,
   "metadata": {
    "vscode": {
     "languageId": "r"
    }
   },
   "outputs": [],
   "source": []
  },
  {
   "cell_type": "code",
   "execution_count": null,
   "metadata": {
    "vscode": {
     "languageId": "r"
    }
   },
   "outputs": [],
   "source": []
  },
  {
   "cell_type": "code",
   "execution_count": null,
   "metadata": {
    "vscode": {
     "languageId": "r"
    }
   },
   "outputs": [],
   "source": []
  },
  {
   "cell_type": "code",
   "execution_count": null,
   "metadata": {
    "vscode": {
     "languageId": "r"
    }
   },
   "outputs": [],
   "source": []
  },
  {
   "cell_type": "code",
   "execution_count": null,
   "metadata": {
    "vscode": {
     "languageId": "r"
    }
   },
   "outputs": [],
   "source": []
  },
  {
   "cell_type": "code",
   "execution_count": null,
   "metadata": {
    "vscode": {
     "languageId": "r"
    }
   },
   "outputs": [],
   "source": []
  },
  {
   "cell_type": "code",
   "execution_count": null,
   "metadata": {
    "vscode": {
     "languageId": "r"
    }
   },
   "outputs": [],
   "source": []
  },
  {
   "cell_type": "code",
   "execution_count": null,
   "metadata": {
    "vscode": {
     "languageId": "r"
    }
   },
   "outputs": [],
   "source": []
  },
  {
   "cell_type": "code",
   "execution_count": null,
   "metadata": {
    "vscode": {
     "languageId": "r"
    }
   },
   "outputs": [],
   "source": []
  },
  {
   "cell_type": "code",
   "execution_count": null,
   "metadata": {
    "vscode": {
     "languageId": "r"
    }
   },
   "outputs": [],
   "source": []
  },
  {
   "cell_type": "code",
   "execution_count": null,
   "metadata": {
    "vscode": {
     "languageId": "r"
    }
   },
   "outputs": [],
   "source": []
  }
 ],
 "metadata": {
  "kernelspec": {
   "display_name": "R",
   "language": "R",
   "name": "ir"
  },
  "language_info": {
   "name": "R"
  }
 },
 "nbformat": 4,
 "nbformat_minor": 2
}
