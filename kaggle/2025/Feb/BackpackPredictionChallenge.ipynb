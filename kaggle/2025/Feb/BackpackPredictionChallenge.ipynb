{
 "cells": [
  {
   "cell_type": "code",
   "execution_count": 1,
   "metadata": {},
   "outputs": [
    {
     "name": "stdout",
     "output_type": "stream",
     "text": [
      "Python 3.12.8\n",
      "/public/workspace/ryrl/venvs/versions/3.12.8/torch/bin/python\n"
     ]
    }
   ],
   "source": [
    "!python --version\n",
    "!which python"
   ]
  },
  {
   "cell_type": "code",
   "execution_count": 2,
   "metadata": {},
   "outputs": [],
   "source": [
    "import numpy as np\n",
    "import pandas as pd\n",
    "import seaborn as sns\n",
    "import matplotlib.pyplot as plt"
   ]
  },
  {
   "cell_type": "code",
   "execution_count": 3,
   "metadata": {},
   "outputs": [
    {
     "data": {
      "application/vnd.microsoft.datawrangler.viewer.v0+json": {
       "columns": [
        {
         "name": "id",
         "rawType": "int64",
         "type": "integer"
        },
        {
         "name": "Brand",
         "rawType": "object",
         "type": "string"
        },
        {
         "name": "Material",
         "rawType": "object",
         "type": "string"
        },
        {
         "name": "Size",
         "rawType": "object",
         "type": "string"
        },
        {
         "name": "Compartments",
         "rawType": "float64",
         "type": "float"
        },
        {
         "name": "Laptop Compartment",
         "rawType": "object",
         "type": "string"
        },
        {
         "name": "Waterproof",
         "rawType": "object",
         "type": "string"
        },
        {
         "name": "Style",
         "rawType": "object",
         "type": "string"
        },
        {
         "name": "Color",
         "rawType": "object",
         "type": "string"
        },
        {
         "name": "Weight Capacity (kg)",
         "rawType": "float64",
         "type": "float"
        },
        {
         "name": "Price",
         "rawType": "float64",
         "type": "float"
        }
       ],
       "conversionMethod": "pd.DataFrame",
       "ref": "0ac0b54f-7ff7-4038-92d0-cbdf4aa441dd",
       "rows": [
        [
         "0",
         "Jansport",
         "Leather",
         "Medium",
         "7.0",
         "Yes",
         "No",
         "Tote",
         "Black",
         "11.611722805222309",
         "112.15875"
        ],
        [
         "1",
         "Jansport",
         "Canvas",
         "Small",
         "10.0",
         "Yes",
         "Yes",
         "Messenger",
         "Green",
         "27.07853658053123",
         "68.88056"
        ],
        [
         "2",
         "Under Armour",
         "Leather",
         "Small",
         "2.0",
         "Yes",
         "No",
         "Messenger",
         "Red",
         "16.643759949103497",
         "39.1732"
        ],
        [
         "3",
         "Nike",
         "Nylon",
         "Small",
         "8.0",
         "Yes",
         "No",
         "Messenger",
         "Green",
         "12.937220306632067",
         "80.60793"
        ],
        [
         "4",
         "Adidas",
         "Canvas",
         "Medium",
         "1.0",
         "Yes",
         "Yes",
         "Messenger",
         "Green",
         "17.749338465908988",
         "86.02312"
        ]
       ],
       "shape": {
        "columns": 10,
        "rows": 5
       }
      },
      "text/html": [
       "<div>\n",
       "<style scoped>\n",
       "    .dataframe tbody tr th:only-of-type {\n",
       "        vertical-align: middle;\n",
       "    }\n",
       "\n",
       "    .dataframe tbody tr th {\n",
       "        vertical-align: top;\n",
       "    }\n",
       "\n",
       "    .dataframe thead th {\n",
       "        text-align: right;\n",
       "    }\n",
       "</style>\n",
       "<table border=\"1\" class=\"dataframe\">\n",
       "  <thead>\n",
       "    <tr style=\"text-align: right;\">\n",
       "      <th></th>\n",
       "      <th>Brand</th>\n",
       "      <th>Material</th>\n",
       "      <th>Size</th>\n",
       "      <th>Compartments</th>\n",
       "      <th>Laptop Compartment</th>\n",
       "      <th>Waterproof</th>\n",
       "      <th>Style</th>\n",
       "      <th>Color</th>\n",
       "      <th>Weight Capacity (kg)</th>\n",
       "      <th>Price</th>\n",
       "    </tr>\n",
       "    <tr>\n",
       "      <th>id</th>\n",
       "      <th></th>\n",
       "      <th></th>\n",
       "      <th></th>\n",
       "      <th></th>\n",
       "      <th></th>\n",
       "      <th></th>\n",
       "      <th></th>\n",
       "      <th></th>\n",
       "      <th></th>\n",
       "      <th></th>\n",
       "    </tr>\n",
       "  </thead>\n",
       "  <tbody>\n",
       "    <tr>\n",
       "      <th>0</th>\n",
       "      <td>Jansport</td>\n",
       "      <td>Leather</td>\n",
       "      <td>Medium</td>\n",
       "      <td>7.0</td>\n",
       "      <td>Yes</td>\n",
       "      <td>No</td>\n",
       "      <td>Tote</td>\n",
       "      <td>Black</td>\n",
       "      <td>11.611723</td>\n",
       "      <td>112.15875</td>\n",
       "    </tr>\n",
       "    <tr>\n",
       "      <th>1</th>\n",
       "      <td>Jansport</td>\n",
       "      <td>Canvas</td>\n",
       "      <td>Small</td>\n",
       "      <td>10.0</td>\n",
       "      <td>Yes</td>\n",
       "      <td>Yes</td>\n",
       "      <td>Messenger</td>\n",
       "      <td>Green</td>\n",
       "      <td>27.078537</td>\n",
       "      <td>68.88056</td>\n",
       "    </tr>\n",
       "    <tr>\n",
       "      <th>2</th>\n",
       "      <td>Under Armour</td>\n",
       "      <td>Leather</td>\n",
       "      <td>Small</td>\n",
       "      <td>2.0</td>\n",
       "      <td>Yes</td>\n",
       "      <td>No</td>\n",
       "      <td>Messenger</td>\n",
       "      <td>Red</td>\n",
       "      <td>16.643760</td>\n",
       "      <td>39.17320</td>\n",
       "    </tr>\n",
       "    <tr>\n",
       "      <th>3</th>\n",
       "      <td>Nike</td>\n",
       "      <td>Nylon</td>\n",
       "      <td>Small</td>\n",
       "      <td>8.0</td>\n",
       "      <td>Yes</td>\n",
       "      <td>No</td>\n",
       "      <td>Messenger</td>\n",
       "      <td>Green</td>\n",
       "      <td>12.937220</td>\n",
       "      <td>80.60793</td>\n",
       "    </tr>\n",
       "    <tr>\n",
       "      <th>4</th>\n",
       "      <td>Adidas</td>\n",
       "      <td>Canvas</td>\n",
       "      <td>Medium</td>\n",
       "      <td>1.0</td>\n",
       "      <td>Yes</td>\n",
       "      <td>Yes</td>\n",
       "      <td>Messenger</td>\n",
       "      <td>Green</td>\n",
       "      <td>17.749338</td>\n",
       "      <td>86.02312</td>\n",
       "    </tr>\n",
       "  </tbody>\n",
       "</table>\n",
       "</div>"
      ],
      "text/plain": [
       "           Brand Material    Size  Compartments Laptop Compartment Waterproof  \\\n",
       "id                                                                              \n",
       "0       Jansport  Leather  Medium           7.0                Yes         No   \n",
       "1       Jansport   Canvas   Small          10.0                Yes        Yes   \n",
       "2   Under Armour  Leather   Small           2.0                Yes         No   \n",
       "3           Nike    Nylon   Small           8.0                Yes         No   \n",
       "4         Adidas   Canvas  Medium           1.0                Yes        Yes   \n",
       "\n",
       "        Style  Color  Weight Capacity (kg)      Price  \n",
       "id                                                     \n",
       "0        Tote  Black             11.611723  112.15875  \n",
       "1   Messenger  Green             27.078537   68.88056  \n",
       "2   Messenger    Red             16.643760   39.17320  \n",
       "3   Messenger  Green             12.937220   80.60793  \n",
       "4   Messenger  Green             17.749338   86.02312  "
      ]
     },
     "execution_count": 3,
     "metadata": {},
     "output_type": "execute_result"
    }
   ],
   "source": [
    "dirs = '/public/workspace/ryrl/IdeaProjects/Projects/kaggle/2025/Feb'\n",
    "data = pd.read_csv(f'{dirs}/train.csv', index_col=0)\n",
    "data.head()"
   ]
  },
  {
   "cell_type": "code",
   "execution_count": null,
   "metadata": {},
   "outputs": [],
   "source": [
    "from category_encoders import TargetEncoder\n",
    "\n",
    "TargetEncoder()"
   ]
  },
  {
   "cell_type": "code",
   "execution_count": null,
   "metadata": {},
   "outputs": [],
   "source": []
  },
  {
   "cell_type": "code",
   "execution_count": null,
   "metadata": {},
   "outputs": [],
   "source": []
  },
  {
   "cell_type": "code",
   "execution_count": null,
   "metadata": {},
   "outputs": [],
   "source": []
  },
  {
   "cell_type": "code",
   "execution_count": null,
   "metadata": {},
   "outputs": [],
   "source": []
  },
  {
   "cell_type": "code",
   "execution_count": null,
   "metadata": {},
   "outputs": [],
   "source": []
  }
 ],
 "metadata": {
  "kernelspec": {
   "display_name": "Python 3 (ipykernel)",
   "language": "python",
   "name": "python3"
  }
 },
 "nbformat": 4,
 "nbformat_minor": 2
}
