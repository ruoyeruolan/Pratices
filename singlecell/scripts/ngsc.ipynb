{
 "cells": [
  {
   "cell_type": "code",
   "execution_count": 2,
   "metadata": {},
   "outputs": [
    {
     "name": "stdout",
     "output_type": "stream",
     "text": [
      "Python 3.12.4\n",
      "/Users/wakala/venvs/versions/3.12.4/GeneRegulation/bin/python\n"
     ]
    }
   ],
   "source": [
    "!python --version\n",
    "!which python"
   ]
  },
  {
   "cell_type": "code",
   "execution_count": 85,
   "metadata": {},
   "outputs": [
    {
     "name": "stdout",
     "output_type": "stream",
     "text": [
      "Scanpy version:  1.10.4\n",
      "PySCENIC version:  0.12.1+8.gd2309fe\n"
     ]
    }
   ],
   "source": [
    "import os\n",
    "import warnings\n",
    "import pandas as pd\n",
    "import scanpy as sc\n",
    "import pyscenic as ps\n",
    "\n",
    "from dask import delayed\n",
    "from dask.dataframe import from_delayed\n",
    "from dask.dataframe.dispatch import make_meta\n",
    "from arboreto.core import create_graph, to_tf_matrix, target_gene_indices, infer_partial_network\n",
    "from pyscenic.prune import _prepare_client\n",
    "from arboreto.algo import genie3, grnboost2, _prepare_client, _prepare_input\n",
    "from pyscenic.cli.pyscenic import load_exp_matrix, find_adjacencies_command, load_tf_names\n",
    "\n",
    "warnings.filterwarnings('ignore')\n",
    "print(\"Scanpy version: \", sc.__version__)\n",
    "print(\"PySCENIC version: \", ps.__version__)"
   ]
  },
  {
   "cell_type": "code",
   "execution_count": 4,
   "metadata": {},
   "outputs": [
    {
     "data": {
      "text/plain": [
       "AnnData object with n_obs × n_vars = 10194 × 36601\n",
       "    var: 'gene_ids', 'feature_types', 'genome'"
      ]
     },
     "execution_count": 4,
     "metadata": {},
     "output_type": "execute_result"
    }
   ],
   "source": [
    "adata = sc.read_10x_h5('/Users/wakala/Desktop/Works/Data/singlecell/filtered_feature_bc_matrix.h5')\n",
    "adata.var_names_make_unique()\n",
    "adata"
   ]
  },
  {
   "cell_type": "code",
   "execution_count": 7,
   "metadata": {},
   "outputs": [
    {
     "data": {
      "text/plain": [
       "(10194, 36601)"
      ]
     },
     "execution_count": 7,
     "metadata": {},
     "output_type": "execute_result"
    }
   ],
   "source": [
    "df = adata.to_df()\n",
    "df.shape"
   ]
  },
  {
   "cell_type": "code",
   "execution_count": 9,
   "metadata": {},
   "outputs": [],
   "source": [
    "df.to_csv('~/Desktop/Works/Data/singlecell/matrix.tsv', sep='\\t', index=True)"
   ]
  },
  {
   "cell_type": "code",
   "execution_count": 24,
   "metadata": {},
   "outputs": [
    {
     "data": {
      "text/html": [
       "<div>\n",
       "<style scoped>\n",
       "    .dataframe tbody tr th:only-of-type {\n",
       "        vertical-align: middle;\n",
       "    }\n",
       "\n",
       "    .dataframe tbody tr th {\n",
       "        vertical-align: top;\n",
       "    }\n",
       "\n",
       "    .dataframe thead th {\n",
       "        text-align: right;\n",
       "    }\n",
       "</style>\n",
       "<table border=\"1\" class=\"dataframe\">\n",
       "  <thead>\n",
       "    <tr style=\"text-align: right;\">\n",
       "      <th></th>\n",
       "      <th>MIR1302-2HG</th>\n",
       "      <th>FAM138A</th>\n",
       "      <th>OR4F5</th>\n",
       "      <th>AL627309.1</th>\n",
       "      <th>AL627309.3</th>\n",
       "      <th>AL627309.2</th>\n",
       "      <th>AL627309.5</th>\n",
       "      <th>AL627309.4</th>\n",
       "      <th>AP006222.2</th>\n",
       "      <th>AL732372.1</th>\n",
       "      <th>...</th>\n",
       "      <th>AC133551.1</th>\n",
       "      <th>AC136612.1</th>\n",
       "      <th>AC136616.1</th>\n",
       "      <th>AC136616.3</th>\n",
       "      <th>AC136616.2</th>\n",
       "      <th>AC141272.1</th>\n",
       "      <th>AC023491.2</th>\n",
       "      <th>AC007325.1</th>\n",
       "      <th>AC007325.4</th>\n",
       "      <th>AC007325.2</th>\n",
       "    </tr>\n",
       "  </thead>\n",
       "  <tbody>\n",
       "    <tr>\n",
       "      <th>AAACCCACATAACTCG-1</th>\n",
       "      <td>0.0</td>\n",
       "      <td>0.0</td>\n",
       "      <td>0.0</td>\n",
       "      <td>0.0</td>\n",
       "      <td>0.0</td>\n",
       "      <td>0.0</td>\n",
       "      <td>0.0</td>\n",
       "      <td>0.0</td>\n",
       "      <td>0.0</td>\n",
       "      <td>0.0</td>\n",
       "      <td>...</td>\n",
       "      <td>0.0</td>\n",
       "      <td>0.0</td>\n",
       "      <td>0.0</td>\n",
       "      <td>0.0</td>\n",
       "      <td>0.0</td>\n",
       "      <td>0.0</td>\n",
       "      <td>0.0</td>\n",
       "      <td>0.0</td>\n",
       "      <td>1.0</td>\n",
       "      <td>0.0</td>\n",
       "    </tr>\n",
       "    <tr>\n",
       "      <th>AAACCCACATGTAACC-1</th>\n",
       "      <td>0.0</td>\n",
       "      <td>0.0</td>\n",
       "      <td>0.0</td>\n",
       "      <td>0.0</td>\n",
       "      <td>0.0</td>\n",
       "      <td>0.0</td>\n",
       "      <td>0.0</td>\n",
       "      <td>0.0</td>\n",
       "      <td>0.0</td>\n",
       "      <td>0.0</td>\n",
       "      <td>...</td>\n",
       "      <td>0.0</td>\n",
       "      <td>0.0</td>\n",
       "      <td>0.0</td>\n",
       "      <td>0.0</td>\n",
       "      <td>0.0</td>\n",
       "      <td>0.0</td>\n",
       "      <td>0.0</td>\n",
       "      <td>0.0</td>\n",
       "      <td>0.0</td>\n",
       "      <td>0.0</td>\n",
       "    </tr>\n",
       "    <tr>\n",
       "      <th>AAACCCAGTGAGTCAG-1</th>\n",
       "      <td>0.0</td>\n",
       "      <td>0.0</td>\n",
       "      <td>0.0</td>\n",
       "      <td>0.0</td>\n",
       "      <td>0.0</td>\n",
       "      <td>0.0</td>\n",
       "      <td>0.0</td>\n",
       "      <td>0.0</td>\n",
       "      <td>0.0</td>\n",
       "      <td>0.0</td>\n",
       "      <td>...</td>\n",
       "      <td>0.0</td>\n",
       "      <td>0.0</td>\n",
       "      <td>0.0</td>\n",
       "      <td>0.0</td>\n",
       "      <td>0.0</td>\n",
       "      <td>0.0</td>\n",
       "      <td>0.0</td>\n",
       "      <td>0.0</td>\n",
       "      <td>0.0</td>\n",
       "      <td>0.0</td>\n",
       "    </tr>\n",
       "    <tr>\n",
       "      <th>AAACCCAGTGCTTATG-1</th>\n",
       "      <td>0.0</td>\n",
       "      <td>0.0</td>\n",
       "      <td>0.0</td>\n",
       "      <td>0.0</td>\n",
       "      <td>0.0</td>\n",
       "      <td>0.0</td>\n",
       "      <td>0.0</td>\n",
       "      <td>0.0</td>\n",
       "      <td>0.0</td>\n",
       "      <td>0.0</td>\n",
       "      <td>...</td>\n",
       "      <td>0.0</td>\n",
       "      <td>0.0</td>\n",
       "      <td>0.0</td>\n",
       "      <td>0.0</td>\n",
       "      <td>0.0</td>\n",
       "      <td>0.0</td>\n",
       "      <td>0.0</td>\n",
       "      <td>0.0</td>\n",
       "      <td>0.0</td>\n",
       "      <td>0.0</td>\n",
       "    </tr>\n",
       "    <tr>\n",
       "      <th>AAACGAACAGTCAGTT-1</th>\n",
       "      <td>0.0</td>\n",
       "      <td>0.0</td>\n",
       "      <td>0.0</td>\n",
       "      <td>0.0</td>\n",
       "      <td>0.0</td>\n",
       "      <td>0.0</td>\n",
       "      <td>0.0</td>\n",
       "      <td>0.0</td>\n",
       "      <td>0.0</td>\n",
       "      <td>0.0</td>\n",
       "      <td>...</td>\n",
       "      <td>0.0</td>\n",
       "      <td>0.0</td>\n",
       "      <td>0.0</td>\n",
       "      <td>0.0</td>\n",
       "      <td>0.0</td>\n",
       "      <td>0.0</td>\n",
       "      <td>0.0</td>\n",
       "      <td>0.0</td>\n",
       "      <td>0.0</td>\n",
       "      <td>0.0</td>\n",
       "    </tr>\n",
       "  </tbody>\n",
       "</table>\n",
       "<p>5 rows × 36601 columns</p>\n",
       "</div>"
      ],
      "text/plain": [
       "                    MIR1302-2HG  FAM138A  OR4F5  AL627309.1  AL627309.3  \\\n",
       "AAACCCACATAACTCG-1          0.0      0.0    0.0         0.0         0.0   \n",
       "AAACCCACATGTAACC-1          0.0      0.0    0.0         0.0         0.0   \n",
       "AAACCCAGTGAGTCAG-1          0.0      0.0    0.0         0.0         0.0   \n",
       "AAACCCAGTGCTTATG-1          0.0      0.0    0.0         0.0         0.0   \n",
       "AAACGAACAGTCAGTT-1          0.0      0.0    0.0         0.0         0.0   \n",
       "\n",
       "                    AL627309.2  AL627309.5  AL627309.4  AP006222.2  \\\n",
       "AAACCCACATAACTCG-1         0.0         0.0         0.0         0.0   \n",
       "AAACCCACATGTAACC-1         0.0         0.0         0.0         0.0   \n",
       "AAACCCAGTGAGTCAG-1         0.0         0.0         0.0         0.0   \n",
       "AAACCCAGTGCTTATG-1         0.0         0.0         0.0         0.0   \n",
       "AAACGAACAGTCAGTT-1         0.0         0.0         0.0         0.0   \n",
       "\n",
       "                    AL732372.1  ...  AC133551.1  AC136612.1  AC136616.1  \\\n",
       "AAACCCACATAACTCG-1         0.0  ...         0.0         0.0         0.0   \n",
       "AAACCCACATGTAACC-1         0.0  ...         0.0         0.0         0.0   \n",
       "AAACCCAGTGAGTCAG-1         0.0  ...         0.0         0.0         0.0   \n",
       "AAACCCAGTGCTTATG-1         0.0  ...         0.0         0.0         0.0   \n",
       "AAACGAACAGTCAGTT-1         0.0  ...         0.0         0.0         0.0   \n",
       "\n",
       "                    AC136616.3  AC136616.2  AC141272.1  AC023491.2  \\\n",
       "AAACCCACATAACTCG-1         0.0         0.0         0.0         0.0   \n",
       "AAACCCACATGTAACC-1         0.0         0.0         0.0         0.0   \n",
       "AAACCCAGTGAGTCAG-1         0.0         0.0         0.0         0.0   \n",
       "AAACCCAGTGCTTATG-1         0.0         0.0         0.0         0.0   \n",
       "AAACGAACAGTCAGTT-1         0.0         0.0         0.0         0.0   \n",
       "\n",
       "                    AC007325.1  AC007325.4  AC007325.2  \n",
       "AAACCCACATAACTCG-1         0.0         1.0         0.0  \n",
       "AAACCCACATGTAACC-1         0.0         0.0         0.0  \n",
       "AAACCCAGTGAGTCAG-1         0.0         0.0         0.0  \n",
       "AAACCCAGTGCTTATG-1         0.0         0.0         0.0  \n",
       "AAACGAACAGTCAGTT-1         0.0         0.0         0.0  \n",
       "\n",
       "[5 rows x 36601 columns]"
      ]
     },
     "execution_count": 24,
     "metadata": {},
     "output_type": "execute_result"
    }
   ],
   "source": [
    "df = load_exp_matrix('~/Desktop/Works/Data/singlecell/matrix.tsv')\n",
    "df.head()"
   ]
  },
  {
   "cell_type": "code",
   "execution_count": 15,
   "metadata": {},
   "outputs": [
    {
     "data": {
      "text/html": [
       "<div>\n",
       "<style scoped>\n",
       "    .dataframe tbody tr th:only-of-type {\n",
       "        vertical-align: middle;\n",
       "    }\n",
       "\n",
       "    .dataframe tbody tr th {\n",
       "        vertical-align: top;\n",
       "    }\n",
       "\n",
       "    .dataframe thead th {\n",
       "        text-align: right;\n",
       "    }\n",
       "</style>\n",
       "<table border=\"1\" class=\"dataframe\">\n",
       "  <thead>\n",
       "    <tr style=\"text-align: right;\">\n",
       "      <th></th>\n",
       "      <th>0</th>\n",
       "    </tr>\n",
       "  </thead>\n",
       "  <tbody>\n",
       "    <tr>\n",
       "      <th>MAST2</th>\n",
       "      <td>MAST2</td>\n",
       "    </tr>\n",
       "    <tr>\n",
       "      <th>PIK3R3</th>\n",
       "      <td>PIK3R3</td>\n",
       "    </tr>\n",
       "    <tr>\n",
       "      <th>AL358075.1</th>\n",
       "      <td>AL358075.1</td>\n",
       "    </tr>\n",
       "    <tr>\n",
       "      <th>AL358075.2</th>\n",
       "      <td>AL358075.2</td>\n",
       "    </tr>\n",
       "    <tr>\n",
       "      <th>TSPAN1</th>\n",
       "      <td>TSPAN1</td>\n",
       "    </tr>\n",
       "  </tbody>\n",
       "</table>\n",
       "</div>"
      ],
      "text/plain": [
       "                     0\n",
       "MAST2            MAST2\n",
       "PIK3R3          PIK3R3\n",
       "AL358075.1  AL358075.1\n",
       "AL358075.2  AL358075.2\n",
       "TSPAN1          TSPAN1"
      ]
     },
     "execution_count": 15,
     "metadata": {},
     "output_type": "execute_result"
    }
   ],
   "source": [
    "adata.var_names.to_frame().iloc[1000:1005]"
   ]
  },
  {
   "cell_type": "code",
   "execution_count": 35,
   "metadata": {},
   "outputs": [],
   "source": [
    "tf_names = load_tf_names('/Users/wakala/Desktop/Works/Data/singlecell/allTFs_hg38.txt')"
   ]
  },
  {
   "cell_type": "code",
   "execution_count": 36,
   "metadata": {},
   "outputs": [
    {
     "data": {
      "text/plain": [
       "(36601, 36601)"
      ]
     },
     "execution_count": 36,
     "metadata": {},
     "output_type": "execute_result"
    }
   ],
   "source": [
    "n_total_genes = len(df.columns)\n",
    "n_matching_genes = len(df.columns.isin(tf_names))\n",
    "n_total_genes, n_matching_genes"
   ]
  },
  {
   "cell_type": "code",
   "execution_count": 38,
   "metadata": {},
   "outputs": [
    {
     "data": {
      "text/plain": [
       "1.0"
      ]
     },
     "execution_count": 38,
     "metadata": {},
     "output_type": "execute_result"
    }
   ],
   "source": [
    "float(n_matching_genes) / n_total_genes"
   ]
  },
  {
   "cell_type": "code",
   "execution_count": 59,
   "metadata": {},
   "outputs": [
    {
     "data": {
      "text/plain": [
       "(<Client: 'tcp://127.0.0.1:62523' processes=5 threads=10, memory=16.00 GiB>,\n",
       " <function arboreto.algo._prepare_client.<locals>.close_client_and_local_cluster(verbose=False)>)"
      ]
     },
     "execution_count": 59,
     "metadata": {},
     "output_type": "execute_result"
    }
   ],
   "source": [
    "client, shutdown_callback = _prepare_client('local')\n",
    "client, shutdown_callback\n"
   ]
  },
  {
   "cell_type": "code",
   "execution_count": 44,
   "metadata": {},
   "outputs": [
    {
     "name": "stdout",
     "output_type": "stream",
     "text": [
      "preparing dask client\n",
      "parsing input\n",
      "creating dask graph\n",
      "not shutting down client, client was created externally\n",
      "finished\n"
     ]
    },
    {
     "ename": "TypeError",
     "evalue": "Must supply at least one delayed object",
     "output_type": "error",
     "traceback": [
      "\u001b[0;31m---------------------------------------------------------------------------\u001b[0m",
      "\u001b[0;31mTypeError\u001b[0m                                 Traceback (most recent call last)",
      "Cell \u001b[0;32mIn[44], line 2\u001b[0m\n\u001b[1;32m      1\u001b[0m method \u001b[38;5;241m=\u001b[39m genie3\n\u001b[0;32m----> 2\u001b[0m network \u001b[38;5;241m=\u001b[39m \u001b[43mmethod\u001b[49m\u001b[43m(\u001b[49m\u001b[43mexpression_data\u001b[49m\u001b[38;5;241;43m=\u001b[39;49m\u001b[43mdf\u001b[49m\u001b[43m,\u001b[49m\u001b[43m \u001b[49m\u001b[43mtf_names\u001b[49m\u001b[38;5;241;43m=\u001b[39;49m\u001b[43mtf_names\u001b[49m\u001b[43m,\u001b[49m\u001b[43m \u001b[49m\u001b[43mverbose\u001b[49m\u001b[38;5;241;43m=\u001b[39;49m\u001b[38;5;28;43;01mTrue\u001b[39;49;00m\u001b[43m,\u001b[49m\u001b[43m \u001b[49m\u001b[43mclient_or_address\u001b[49m\u001b[38;5;241;43m=\u001b[39;49m\u001b[43mclient\u001b[49m\u001b[43m,\u001b[49m\u001b[43mseed\u001b[49m\u001b[38;5;241;43m=\u001b[39;49m\u001b[38;5;241;43m999\u001b[39;49m\u001b[43m)\u001b[49m\n",
      "File \u001b[0;32m~/venvs/versions/3.12.4/GeneRegulation/lib/python3.12/site-packages/arboreto/algo.py:71\u001b[0m, in \u001b[0;36mgenie3\u001b[0;34m(expression_data, gene_names, tf_names, client_or_address, limit, seed, verbose)\u001b[0m\n\u001b[1;32m     44\u001b[0m \u001b[38;5;28;01mdef\u001b[39;00m \u001b[38;5;21mgenie3\u001b[39m(expression_data,\n\u001b[1;32m     45\u001b[0m            gene_names\u001b[38;5;241m=\u001b[39m\u001b[38;5;28;01mNone\u001b[39;00m,\n\u001b[1;32m     46\u001b[0m            tf_names\u001b[38;5;241m=\u001b[39m\u001b[38;5;124m'\u001b[39m\u001b[38;5;124mall\u001b[39m\u001b[38;5;124m'\u001b[39m,\n\u001b[0;32m   (...)\u001b[0m\n\u001b[1;32m     49\u001b[0m            seed\u001b[38;5;241m=\u001b[39m\u001b[38;5;28;01mNone\u001b[39;00m,\n\u001b[1;32m     50\u001b[0m            verbose\u001b[38;5;241m=\u001b[39m\u001b[38;5;28;01mFalse\u001b[39;00m):\n\u001b[1;32m     51\u001b[0m \u001b[38;5;250m    \u001b[39m\u001b[38;5;124;03m\"\"\"\u001b[39;00m\n\u001b[1;32m     52\u001b[0m \u001b[38;5;124;03m    Launch arboreto with [GENIE3] profile.\u001b[39;00m\n\u001b[1;32m     53\u001b[0m \n\u001b[0;32m   (...)\u001b[0m\n\u001b[1;32m     68\u001b[0m \u001b[38;5;124;03m    :return: a pandas DataFrame['TF', 'target', 'importance'] representing the inferred gene regulatory links.\u001b[39;00m\n\u001b[1;32m     69\u001b[0m \u001b[38;5;124;03m    \"\"\"\u001b[39;00m\n\u001b[0;32m---> 71\u001b[0m     \u001b[38;5;28;01mreturn\u001b[39;00m \u001b[43mdiy\u001b[49m\u001b[43m(\u001b[49m\u001b[43mexpression_data\u001b[49m\u001b[38;5;241;43m=\u001b[39;49m\u001b[43mexpression_data\u001b[49m\u001b[43m,\u001b[49m\u001b[43m \u001b[49m\u001b[43mregressor_type\u001b[49m\u001b[38;5;241;43m=\u001b[39;49m\u001b[38;5;124;43m'\u001b[39;49m\u001b[38;5;124;43mRF\u001b[39;49m\u001b[38;5;124;43m'\u001b[39;49m\u001b[43m,\u001b[49m\u001b[43m \u001b[49m\u001b[43mregressor_kwargs\u001b[49m\u001b[38;5;241;43m=\u001b[39;49m\u001b[43mRF_KWARGS\u001b[49m\u001b[43m,\u001b[49m\n\u001b[1;32m     72\u001b[0m \u001b[43m               \u001b[49m\u001b[43mgene_names\u001b[49m\u001b[38;5;241;43m=\u001b[39;49m\u001b[43mgene_names\u001b[49m\u001b[43m,\u001b[49m\u001b[43m \u001b[49m\u001b[43mtf_names\u001b[49m\u001b[38;5;241;43m=\u001b[39;49m\u001b[43mtf_names\u001b[49m\u001b[43m,\u001b[49m\u001b[43m \u001b[49m\u001b[43mclient_or_address\u001b[49m\u001b[38;5;241;43m=\u001b[39;49m\u001b[43mclient_or_address\u001b[49m\u001b[43m,\u001b[49m\n\u001b[1;32m     73\u001b[0m \u001b[43m               \u001b[49m\u001b[43mlimit\u001b[49m\u001b[38;5;241;43m=\u001b[39;49m\u001b[43mlimit\u001b[49m\u001b[43m,\u001b[49m\u001b[43m \u001b[49m\u001b[43mseed\u001b[49m\u001b[38;5;241;43m=\u001b[39;49m\u001b[43mseed\u001b[49m\u001b[43m,\u001b[49m\u001b[43m \u001b[49m\u001b[43mverbose\u001b[49m\u001b[38;5;241;43m=\u001b[39;49m\u001b[43mverbose\u001b[49m\u001b[43m)\u001b[49m\n",
      "File \u001b[0;32m~/venvs/versions/3.12.4/GeneRegulation/lib/python3.12/site-packages/arboreto/algo.py:120\u001b[0m, in \u001b[0;36mdiy\u001b[0;34m(expression_data, regressor_type, regressor_kwargs, gene_names, tf_names, client_or_address, early_stop_window_length, limit, seed, verbose)\u001b[0m\n\u001b[1;32m    117\u001b[0m \u001b[38;5;28;01mif\u001b[39;00m verbose:\n\u001b[1;32m    118\u001b[0m     \u001b[38;5;28mprint\u001b[39m(\u001b[38;5;124m'\u001b[39m\u001b[38;5;124mcreating dask graph\u001b[39m\u001b[38;5;124m'\u001b[39m)\n\u001b[0;32m--> 120\u001b[0m graph \u001b[38;5;241m=\u001b[39m \u001b[43mcreate_graph\u001b[49m\u001b[43m(\u001b[49m\u001b[43mexpression_matrix\u001b[49m\u001b[43m,\u001b[49m\n\u001b[1;32m    121\u001b[0m \u001b[43m                     \u001b[49m\u001b[43mgene_names\u001b[49m\u001b[43m,\u001b[49m\n\u001b[1;32m    122\u001b[0m \u001b[43m                     \u001b[49m\u001b[43mtf_names\u001b[49m\u001b[43m,\u001b[49m\n\u001b[1;32m    123\u001b[0m \u001b[43m                     \u001b[49m\u001b[43mclient\u001b[49m\u001b[38;5;241;43m=\u001b[39;49m\u001b[43mclient\u001b[49m\u001b[43m,\u001b[49m\n\u001b[1;32m    124\u001b[0m \u001b[43m                     \u001b[49m\u001b[43mregressor_type\u001b[49m\u001b[38;5;241;43m=\u001b[39;49m\u001b[43mregressor_type\u001b[49m\u001b[43m,\u001b[49m\n\u001b[1;32m    125\u001b[0m \u001b[43m                     \u001b[49m\u001b[43mregressor_kwargs\u001b[49m\u001b[38;5;241;43m=\u001b[39;49m\u001b[43mregressor_kwargs\u001b[49m\u001b[43m,\u001b[49m\n\u001b[1;32m    126\u001b[0m \u001b[43m                     \u001b[49m\u001b[43mearly_stop_window_length\u001b[49m\u001b[38;5;241;43m=\u001b[39;49m\u001b[43mearly_stop_window_length\u001b[49m\u001b[43m,\u001b[49m\n\u001b[1;32m    127\u001b[0m \u001b[43m                     \u001b[49m\u001b[43mlimit\u001b[49m\u001b[38;5;241;43m=\u001b[39;49m\u001b[43mlimit\u001b[49m\u001b[43m,\u001b[49m\n\u001b[1;32m    128\u001b[0m \u001b[43m                     \u001b[49m\u001b[43mseed\u001b[49m\u001b[38;5;241;43m=\u001b[39;49m\u001b[43mseed\u001b[49m\u001b[43m)\u001b[49m\n\u001b[1;32m    130\u001b[0m \u001b[38;5;28;01mif\u001b[39;00m verbose:\n\u001b[1;32m    131\u001b[0m     \u001b[38;5;28mprint\u001b[39m(\u001b[38;5;124m'\u001b[39m\u001b[38;5;132;01m{}\u001b[39;00m\u001b[38;5;124m partitions\u001b[39m\u001b[38;5;124m'\u001b[39m\u001b[38;5;241m.\u001b[39mformat(graph\u001b[38;5;241m.\u001b[39mnpartitions))\n",
      "File \u001b[0;32m~/venvs/versions/3.12.4/GeneRegulation/lib/python3.12/site-packages/arboreto/core.py:450\u001b[0m, in \u001b[0;36mcreate_graph\u001b[0;34m(expression_matrix, gene_names, tf_names, regressor_type, regressor_kwargs, client, target_genes, limit, include_meta, early_stop_window_length, repartition_multiplier, seed)\u001b[0m\n\u001b[1;32m    448\u001b[0m \u001b[38;5;66;03m# gather the DataFrames into one distributed DataFrame\u001b[39;00m\n\u001b[1;32m    449\u001b[0m all_links_df \u001b[38;5;241m=\u001b[39m from_delayed(delayed_link_dfs, meta\u001b[38;5;241m=\u001b[39m_GRN_SCHEMA)\n\u001b[0;32m--> 450\u001b[0m all_meta_df \u001b[38;5;241m=\u001b[39m \u001b[43mfrom_delayed\u001b[49m\u001b[43m(\u001b[49m\u001b[43mdelayed_meta_dfs\u001b[49m\u001b[43m,\u001b[49m\u001b[43m \u001b[49m\u001b[43mmeta\u001b[49m\u001b[38;5;241;43m=\u001b[39;49m\u001b[43m_META_SCHEMA\u001b[49m\u001b[43m)\u001b[49m\n\u001b[1;32m    452\u001b[0m \u001b[38;5;66;03m# optionally limit the number of resulting regulatory links, descending by top importance\u001b[39;00m\n\u001b[1;32m    453\u001b[0m \u001b[38;5;28;01mif\u001b[39;00m limit:\n",
      "File \u001b[0;32m~/venvs/versions/3.12.4/GeneRegulation/lib/python3.12/site-packages/dask_expr/io/_delayed.py:119\u001b[0m, in \u001b[0;36mfrom_delayed\u001b[0;34m(dfs, meta, divisions, prefix, verify_meta)\u001b[0m\n\u001b[1;32m    116\u001b[0m     dfs \u001b[38;5;241m=\u001b[39m [dfs]\n\u001b[1;32m    118\u001b[0m \u001b[38;5;28;01mif\u001b[39;00m \u001b[38;5;28mlen\u001b[39m(dfs) \u001b[38;5;241m==\u001b[39m \u001b[38;5;241m0\u001b[39m:\n\u001b[0;32m--> 119\u001b[0m     \u001b[38;5;28;01mraise\u001b[39;00m \u001b[38;5;167;01mTypeError\u001b[39;00m(\u001b[38;5;124m\"\u001b[39m\u001b[38;5;124mMust supply at least one delayed object\u001b[39m\u001b[38;5;124m\"\u001b[39m)\n\u001b[1;32m    121\u001b[0m \u001b[38;5;28;01mif\u001b[39;00m meta \u001b[38;5;129;01mis\u001b[39;00m \u001b[38;5;28;01mNone\u001b[39;00m:\n\u001b[1;32m    122\u001b[0m     meta \u001b[38;5;241m=\u001b[39m delayed(make_meta)(dfs[\u001b[38;5;241m0\u001b[39m])\u001b[38;5;241m.\u001b[39mcompute()\n",
      "\u001b[0;31mTypeError\u001b[0m: Must supply at least one delayed object"
     ]
    }
   ],
   "source": [
    "method = genie3\n",
    "network = method(expression_data=df, tf_names=tf_names, verbose=True, client_or_address=client,seed=999)"
   ]
  },
  {
   "cell_type": "code",
   "execution_count": 45,
   "metadata": {},
   "outputs": [
    {
     "name": "stderr",
     "output_type": "stream",
     "text": [
      "2025-01-02 19:33:15,369 - distributed.nanny.memory - WARNING - Worker tcp://127.0.0.1:59090 (pid=89553) exceeded 95% memory budget. Restarting...\n",
      "2025-01-02 19:33:15,430 - distributed.scheduler - ERROR - Removing worker 'tcp://127.0.0.1:59090' caused the cluster to lose scattered data, which can't be recovered: {'ndarray-9162eb67e6564205d4f5a7e624fd6502'} (stimulus_id='handle-worker-cleanup-1735817595.430141')\n",
      "2025-01-02 19:33:15,432 - distributed.nanny - WARNING - Restarting worker\n",
      "2025-01-02 19:33:15,431 - distributed.worker - ERROR - Could not find data: ['ndarray-9162eb67e6564205d4f5a7e624fd6502']\n",
      "2025-01-02 19:33:15,431 - distributed.worker - ERROR - Could not find data: ['ndarray-9162eb67e6564205d4f5a7e624fd6502']\n",
      "2025-01-02 19:33:15,437 - distributed.scheduler - WARNING - Worker tcp://127.0.0.1:59088 failed to acquire keys: ('ndarray-9162eb67e6564205d4f5a7e624fd6502',)\n",
      "2025-01-02 19:33:15,438 - distributed.scheduler - WARNING - Worker tcp://127.0.0.1:59086 failed to acquire keys: ('ndarray-9162eb67e6564205d4f5a7e624fd6502',)\n"
     ]
    },
    {
     "ename": "TypeError",
     "evalue": "Must supply at least one delayed object",
     "output_type": "error",
     "traceback": [
      "\u001b[0;31m---------------------------------------------------------------------------\u001b[0m",
      "\u001b[0;31mTypeError\u001b[0m                                 Traceback (most recent call last)",
      "Cell \u001b[0;32mIn[45], line 1\u001b[0m\n\u001b[0;32m----> 1\u001b[0m demo \u001b[38;5;241m=\u001b[39m \u001b[43mgrnboost2\u001b[49m\u001b[43m(\u001b[49m\u001b[43mexpression_data\u001b[49m\u001b[38;5;241;43m=\u001b[39;49m\u001b[43mdf\u001b[49m\u001b[43m)\u001b[49m\n",
      "File \u001b[0;32m~/venvs/versions/3.12.4/GeneRegulation/lib/python3.12/site-packages/arboreto/algo.py:39\u001b[0m, in \u001b[0;36mgrnboost2\u001b[0;34m(expression_data, gene_names, tf_names, client_or_address, early_stop_window_length, limit, seed, verbose)\u001b[0m\n\u001b[1;32m     10\u001b[0m \u001b[38;5;28;01mdef\u001b[39;00m \u001b[38;5;21mgrnboost2\u001b[39m(expression_data,\n\u001b[1;32m     11\u001b[0m               gene_names\u001b[38;5;241m=\u001b[39m\u001b[38;5;28;01mNone\u001b[39;00m,\n\u001b[1;32m     12\u001b[0m               tf_names\u001b[38;5;241m=\u001b[39m\u001b[38;5;124m'\u001b[39m\u001b[38;5;124mall\u001b[39m\u001b[38;5;124m'\u001b[39m,\n\u001b[0;32m   (...)\u001b[0m\n\u001b[1;32m     16\u001b[0m               seed\u001b[38;5;241m=\u001b[39m\u001b[38;5;28;01mNone\u001b[39;00m,\n\u001b[1;32m     17\u001b[0m               verbose\u001b[38;5;241m=\u001b[39m\u001b[38;5;28;01mFalse\u001b[39;00m):\n\u001b[1;32m     18\u001b[0m \u001b[38;5;250m    \u001b[39m\u001b[38;5;124;03m\"\"\"\u001b[39;00m\n\u001b[1;32m     19\u001b[0m \u001b[38;5;124;03m    Launch arboreto with [GRNBoost2] profile.\u001b[39;00m\n\u001b[1;32m     20\u001b[0m \n\u001b[0;32m   (...)\u001b[0m\n\u001b[1;32m     36\u001b[0m \u001b[38;5;124;03m    :return: a pandas DataFrame['TF', 'target', 'importance'] representing the inferred gene regulatory links.\u001b[39;00m\n\u001b[1;32m     37\u001b[0m \u001b[38;5;124;03m    \"\"\"\u001b[39;00m\n\u001b[0;32m---> 39\u001b[0m     \u001b[38;5;28;01mreturn\u001b[39;00m \u001b[43mdiy\u001b[49m\u001b[43m(\u001b[49m\u001b[43mexpression_data\u001b[49m\u001b[38;5;241;43m=\u001b[39;49m\u001b[43mexpression_data\u001b[49m\u001b[43m,\u001b[49m\u001b[43m \u001b[49m\u001b[43mregressor_type\u001b[49m\u001b[38;5;241;43m=\u001b[39;49m\u001b[38;5;124;43m'\u001b[39;49m\u001b[38;5;124;43mGBM\u001b[39;49m\u001b[38;5;124;43m'\u001b[39;49m\u001b[43m,\u001b[49m\u001b[43m \u001b[49m\u001b[43mregressor_kwargs\u001b[49m\u001b[38;5;241;43m=\u001b[39;49m\u001b[43mSGBM_KWARGS\u001b[49m\u001b[43m,\u001b[49m\n\u001b[1;32m     40\u001b[0m \u001b[43m               \u001b[49m\u001b[43mgene_names\u001b[49m\u001b[38;5;241;43m=\u001b[39;49m\u001b[43mgene_names\u001b[49m\u001b[43m,\u001b[49m\u001b[43m \u001b[49m\u001b[43mtf_names\u001b[49m\u001b[38;5;241;43m=\u001b[39;49m\u001b[43mtf_names\u001b[49m\u001b[43m,\u001b[49m\u001b[43m \u001b[49m\u001b[43mclient_or_address\u001b[49m\u001b[38;5;241;43m=\u001b[39;49m\u001b[43mclient_or_address\u001b[49m\u001b[43m,\u001b[49m\n\u001b[1;32m     41\u001b[0m \u001b[43m               \u001b[49m\u001b[43mearly_stop_window_length\u001b[49m\u001b[38;5;241;43m=\u001b[39;49m\u001b[43mearly_stop_window_length\u001b[49m\u001b[43m,\u001b[49m\u001b[43m \u001b[49m\u001b[43mlimit\u001b[49m\u001b[38;5;241;43m=\u001b[39;49m\u001b[43mlimit\u001b[49m\u001b[43m,\u001b[49m\u001b[43m \u001b[49m\u001b[43mseed\u001b[49m\u001b[38;5;241;43m=\u001b[39;49m\u001b[43mseed\u001b[49m\u001b[43m,\u001b[49m\u001b[43m \u001b[49m\u001b[43mverbose\u001b[49m\u001b[38;5;241;43m=\u001b[39;49m\u001b[43mverbose\u001b[49m\u001b[43m)\u001b[49m\n",
      "File \u001b[0;32m~/venvs/versions/3.12.4/GeneRegulation/lib/python3.12/site-packages/arboreto/algo.py:120\u001b[0m, in \u001b[0;36mdiy\u001b[0;34m(expression_data, regressor_type, regressor_kwargs, gene_names, tf_names, client_or_address, early_stop_window_length, limit, seed, verbose)\u001b[0m\n\u001b[1;32m    117\u001b[0m \u001b[38;5;28;01mif\u001b[39;00m verbose:\n\u001b[1;32m    118\u001b[0m     \u001b[38;5;28mprint\u001b[39m(\u001b[38;5;124m'\u001b[39m\u001b[38;5;124mcreating dask graph\u001b[39m\u001b[38;5;124m'\u001b[39m)\n\u001b[0;32m--> 120\u001b[0m graph \u001b[38;5;241m=\u001b[39m \u001b[43mcreate_graph\u001b[49m\u001b[43m(\u001b[49m\u001b[43mexpression_matrix\u001b[49m\u001b[43m,\u001b[49m\n\u001b[1;32m    121\u001b[0m \u001b[43m                     \u001b[49m\u001b[43mgene_names\u001b[49m\u001b[43m,\u001b[49m\n\u001b[1;32m    122\u001b[0m \u001b[43m                     \u001b[49m\u001b[43mtf_names\u001b[49m\u001b[43m,\u001b[49m\n\u001b[1;32m    123\u001b[0m \u001b[43m                     \u001b[49m\u001b[43mclient\u001b[49m\u001b[38;5;241;43m=\u001b[39;49m\u001b[43mclient\u001b[49m\u001b[43m,\u001b[49m\n\u001b[1;32m    124\u001b[0m \u001b[43m                     \u001b[49m\u001b[43mregressor_type\u001b[49m\u001b[38;5;241;43m=\u001b[39;49m\u001b[43mregressor_type\u001b[49m\u001b[43m,\u001b[49m\n\u001b[1;32m    125\u001b[0m \u001b[43m                     \u001b[49m\u001b[43mregressor_kwargs\u001b[49m\u001b[38;5;241;43m=\u001b[39;49m\u001b[43mregressor_kwargs\u001b[49m\u001b[43m,\u001b[49m\n\u001b[1;32m    126\u001b[0m \u001b[43m                     \u001b[49m\u001b[43mearly_stop_window_length\u001b[49m\u001b[38;5;241;43m=\u001b[39;49m\u001b[43mearly_stop_window_length\u001b[49m\u001b[43m,\u001b[49m\n\u001b[1;32m    127\u001b[0m \u001b[43m                     \u001b[49m\u001b[43mlimit\u001b[49m\u001b[38;5;241;43m=\u001b[39;49m\u001b[43mlimit\u001b[49m\u001b[43m,\u001b[49m\n\u001b[1;32m    128\u001b[0m \u001b[43m                     \u001b[49m\u001b[43mseed\u001b[49m\u001b[38;5;241;43m=\u001b[39;49m\u001b[43mseed\u001b[49m\u001b[43m)\u001b[49m\n\u001b[1;32m    130\u001b[0m \u001b[38;5;28;01mif\u001b[39;00m verbose:\n\u001b[1;32m    131\u001b[0m     \u001b[38;5;28mprint\u001b[39m(\u001b[38;5;124m'\u001b[39m\u001b[38;5;132;01m{}\u001b[39;00m\u001b[38;5;124m partitions\u001b[39m\u001b[38;5;124m'\u001b[39m\u001b[38;5;241m.\u001b[39mformat(graph\u001b[38;5;241m.\u001b[39mnpartitions))\n",
      "File \u001b[0;32m~/venvs/versions/3.12.4/GeneRegulation/lib/python3.12/site-packages/arboreto/core.py:450\u001b[0m, in \u001b[0;36mcreate_graph\u001b[0;34m(expression_matrix, gene_names, tf_names, regressor_type, regressor_kwargs, client, target_genes, limit, include_meta, early_stop_window_length, repartition_multiplier, seed)\u001b[0m\n\u001b[1;32m    448\u001b[0m \u001b[38;5;66;03m# gather the DataFrames into one distributed DataFrame\u001b[39;00m\n\u001b[1;32m    449\u001b[0m all_links_df \u001b[38;5;241m=\u001b[39m from_delayed(delayed_link_dfs, meta\u001b[38;5;241m=\u001b[39m_GRN_SCHEMA)\n\u001b[0;32m--> 450\u001b[0m all_meta_df \u001b[38;5;241m=\u001b[39m \u001b[43mfrom_delayed\u001b[49m\u001b[43m(\u001b[49m\u001b[43mdelayed_meta_dfs\u001b[49m\u001b[43m,\u001b[49m\u001b[43m \u001b[49m\u001b[43mmeta\u001b[49m\u001b[38;5;241;43m=\u001b[39;49m\u001b[43m_META_SCHEMA\u001b[49m\u001b[43m)\u001b[49m\n\u001b[1;32m    452\u001b[0m \u001b[38;5;66;03m# optionally limit the number of resulting regulatory links, descending by top importance\u001b[39;00m\n\u001b[1;32m    453\u001b[0m \u001b[38;5;28;01mif\u001b[39;00m limit:\n",
      "File \u001b[0;32m~/venvs/versions/3.12.4/GeneRegulation/lib/python3.12/site-packages/dask_expr/io/_delayed.py:119\u001b[0m, in \u001b[0;36mfrom_delayed\u001b[0;34m(dfs, meta, divisions, prefix, verify_meta)\u001b[0m\n\u001b[1;32m    116\u001b[0m     dfs \u001b[38;5;241m=\u001b[39m [dfs]\n\u001b[1;32m    118\u001b[0m \u001b[38;5;28;01mif\u001b[39;00m \u001b[38;5;28mlen\u001b[39m(dfs) \u001b[38;5;241m==\u001b[39m \u001b[38;5;241m0\u001b[39m:\n\u001b[0;32m--> 119\u001b[0m     \u001b[38;5;28;01mraise\u001b[39;00m \u001b[38;5;167;01mTypeError\u001b[39;00m(\u001b[38;5;124m\"\u001b[39m\u001b[38;5;124mMust supply at least one delayed object\u001b[39m\u001b[38;5;124m\"\u001b[39m)\n\u001b[1;32m    121\u001b[0m \u001b[38;5;28;01mif\u001b[39;00m meta \u001b[38;5;129;01mis\u001b[39;00m \u001b[38;5;28;01mNone\u001b[39;00m:\n\u001b[1;32m    122\u001b[0m     meta \u001b[38;5;241m=\u001b[39m delayed(make_meta)(dfs[\u001b[38;5;241m0\u001b[39m])\u001b[38;5;241m.\u001b[39mcompute()\n",
      "\u001b[0;31mTypeError\u001b[0m: Must supply at least one delayed object"
     ]
    }
   ],
   "source": [
    "demo = grnboost2(expression_data=df)"
   ]
  },
  {
   "cell_type": "code",
   "execution_count": 48,
   "metadata": {},
   "outputs": [],
   "source": [
    "expression_matrix, gene_names, tf_names = _prepare_input(df, df.index.to_list(), tf_names)"
   ]
  },
  {
   "cell_type": "code",
   "execution_count": 55,
   "metadata": {},
   "outputs": [
    {
     "name": "stderr",
     "output_type": "stream",
     "text": [
      "2025-01-02 19:43:25,267 - distributed.worker - ERROR - failed during get data with tcp://127.0.0.1:61167 -> tcp://127.0.0.1:61168\n",
      "Traceback (most recent call last):\n",
      "  File \"/Users/wakala/venvs/versions/3.12.4/GeneRegulation/lib/python3.12/site-packages/tornado/iostream.py\", line 962, in _handle_write\n",
      "    num_bytes = self.write_to_fd(self._write_buffer.peek(size))\n",
      "                ^^^^^^^^^^^^^^^^^^^^^^^^^^^^^^^^^^^^^^^^^^^^^^^\n",
      "  File \"/Users/wakala/venvs/versions/3.12.4/GeneRegulation/lib/python3.12/site-packages/tornado/iostream.py\", line 1124, in write_to_fd\n",
      "    return self.socket.send(data)  # type: ignore\n",
      "           ^^^^^^^^^^^^^^^^^^^^^^\n",
      "OSError: [Errno 55] No buffer space available\n",
      "\n",
      "The above exception was the direct cause of the following exception:\n",
      "\n",
      "Traceback (most recent call last):\n",
      "  File \"/Users/wakala/venvs/versions/3.12.4/GeneRegulation/lib/python3.12/site-packages/distributed/worker.py\", line 1797, in get_data\n",
      "    response = await comm.read(deserializers=serializers)\n",
      "               ^^^^^^^^^^^^^^^^^^^^^^^^^^^^^^^^^^^^^^^^^^\n",
      "  File \"/Users/wakala/venvs/versions/3.12.4/GeneRegulation/lib/python3.12/site-packages/distributed/comm/tcp.py\", line 236, in read\n",
      "    convert_stream_closed_error(self, e)\n",
      "  File \"/Users/wakala/venvs/versions/3.12.4/GeneRegulation/lib/python3.12/site-packages/distributed/comm/tcp.py\", line 140, in convert_stream_closed_error\n",
      "    raise CommClosedError(f\"in {obj}: {exc.__class__.__name__}: {exc}\") from exc\n",
      "distributed.comm.core.CommClosedError: in <TCP (closed)  local=tcp://127.0.0.1:61167 remote=tcp://127.0.0.1:61229>: OSError: [Errno 55] No buffer space available\n",
      "2025-01-02 19:43:25,274 - distributed.worker - ERROR - Could not find data: ['ndarray-6807fcce217331d5e197828e9a0ef9c0']\n",
      "2025-01-02 19:43:25,300 - distributed.worker - ERROR - failed during get data with tcp://127.0.0.1:61167 -> tcp://127.0.0.1:61170\n",
      "Traceback (most recent call last):\n",
      "  File \"/Users/wakala/venvs/versions/3.12.4/GeneRegulation/lib/python3.12/site-packages/tornado/iostream.py\", line 962, in _handle_write\n",
      "    num_bytes = self.write_to_fd(self._write_buffer.peek(size))\n",
      "                ^^^^^^^^^^^^^^^^^^^^^^^^^^^^^^^^^^^^^^^^^^^^^^^\n",
      "  File \"/Users/wakala/venvs/versions/3.12.4/GeneRegulation/lib/python3.12/site-packages/tornado/iostream.py\", line 1124, in write_to_fd\n",
      "    return self.socket.send(data)  # type: ignore\n",
      "           ^^^^^^^^^^^^^^^^^^^^^^\n",
      "OSError: [Errno 55] No buffer space available\n",
      "\n",
      "The above exception was the direct cause of the following exception:\n",
      "\n",
      "Traceback (most recent call last):\n",
      "  File \"/Users/wakala/venvs/versions/3.12.4/GeneRegulation/lib/python3.12/site-packages/distributed/worker.py\", line 1797, in get_data\n",
      "    response = await comm.read(deserializers=serializers)\n",
      "               ^^^^^^^^^^^^^^^^^^^^^^^^^^^^^^^^^^^^^^^^^^\n",
      "  File \"/Users/wakala/venvs/versions/3.12.4/GeneRegulation/lib/python3.12/site-packages/distributed/comm/tcp.py\", line 236, in read\n",
      "    convert_stream_closed_error(self, e)\n",
      "  File \"/Users/wakala/venvs/versions/3.12.4/GeneRegulation/lib/python3.12/site-packages/distributed/comm/tcp.py\", line 140, in convert_stream_closed_error\n",
      "    raise CommClosedError(f\"in {obj}: {exc.__class__.__name__}: {exc}\") from exc\n",
      "distributed.comm.core.CommClosedError: in <TCP (closed)  local=tcp://127.0.0.1:61167 remote=tcp://127.0.0.1:61234>: OSError: [Errno 55] No buffer space available\n"
     ]
    },
    {
     "name": "stderr",
     "output_type": "stream",
     "text": [
      "2025-01-02 19:43:25,275 - distributed.scheduler - WARNING - Worker tcp://127.0.0.1:61168 failed to acquire keys: ('ndarray-6807fcce217331d5e197828e9a0ef9c0',)\n"
     ]
    },
    {
     "ename": "TypeError",
     "evalue": "Must supply at least one delayed object",
     "output_type": "error",
     "traceback": [
      "\u001b[0;31m---------------------------------------------------------------------------\u001b[0m",
      "\u001b[0;31mTypeError\u001b[0m                                 Traceback (most recent call last)",
      "Cell \u001b[0;32mIn[55], line 1\u001b[0m\n\u001b[0;32m----> 1\u001b[0m graph \u001b[38;5;241m=\u001b[39m \u001b[43mcreate_graph\u001b[49m\u001b[43m(\u001b[49m\u001b[43mexpression_matrix\u001b[49m\u001b[43m,\u001b[49m\u001b[43m \u001b[49m\u001b[43mgene_names\u001b[49m\u001b[43m,\u001b[49m\u001b[43m \u001b[49m\u001b[43mtf_names\u001b[49m\u001b[43m,\u001b[49m\u001b[43m \u001b[49m\u001b[43mclient\u001b[49m\u001b[38;5;241;43m=\u001b[39;49m\u001b[43mclient\u001b[49m\u001b[43m,\u001b[49m\u001b[43m \u001b[49m\u001b[43mregressor_type\u001b[49m\u001b[38;5;241;43m=\u001b[39;49m\u001b[38;5;124;43m'\u001b[39;49m\u001b[38;5;124;43mGBM\u001b[39;49m\u001b[38;5;124;43m'\u001b[39;49m\u001b[43m,\u001b[49m\u001b[43m \u001b[49m\u001b[43mregressor_kwargs\u001b[49m\u001b[38;5;241;43m=\u001b[39;49m\u001b[43m{\u001b[49m\n\u001b[1;32m      2\u001b[0m \u001b[43m    \u001b[49m\u001b[38;5;124;43m'\u001b[39;49m\u001b[38;5;124;43mlearning_rate\u001b[39;49m\u001b[38;5;124;43m'\u001b[39;49m\u001b[43m:\u001b[49m\u001b[43m \u001b[49m\u001b[38;5;241;43m0.01\u001b[39;49m\u001b[43m,\u001b[49m\n\u001b[1;32m      3\u001b[0m \u001b[43m    \u001b[49m\u001b[38;5;124;43m'\u001b[39;49m\u001b[38;5;124;43mn_estimators\u001b[39;49m\u001b[38;5;124;43m'\u001b[39;49m\u001b[43m:\u001b[49m\u001b[43m \u001b[49m\u001b[38;5;241;43m5000\u001b[39;49m\u001b[43m,\u001b[49m\u001b[43m  \u001b[49m\u001b[38;5;66;43;03m# can be arbitrarily large\u001b[39;49;00m\n\u001b[1;32m      4\u001b[0m \u001b[43m    \u001b[49m\u001b[38;5;124;43m'\u001b[39;49m\u001b[38;5;124;43mmax_features\u001b[39;49m\u001b[38;5;124;43m'\u001b[39;49m\u001b[43m:\u001b[49m\u001b[43m \u001b[49m\u001b[38;5;241;43m0.1\u001b[39;49m\u001b[43m,\u001b[49m\n\u001b[1;32m      5\u001b[0m \u001b[43m    \u001b[49m\u001b[38;5;124;43m'\u001b[39;49m\u001b[38;5;124;43msubsample\u001b[39;49m\u001b[38;5;124;43m'\u001b[39;49m\u001b[43m:\u001b[49m\u001b[43m \u001b[49m\u001b[38;5;241;43m0.9\u001b[39;49m\n\u001b[1;32m      6\u001b[0m \u001b[43m}\u001b[49m\u001b[43m)\u001b[49m\n",
      "File \u001b[0;32m~/venvs/versions/3.12.4/GeneRegulation/lib/python3.12/site-packages/arboreto/core.py:450\u001b[0m, in \u001b[0;36mcreate_graph\u001b[0;34m(expression_matrix, gene_names, tf_names, regressor_type, regressor_kwargs, client, target_genes, limit, include_meta, early_stop_window_length, repartition_multiplier, seed)\u001b[0m\n\u001b[1;32m    448\u001b[0m \u001b[38;5;66;03m# gather the DataFrames into one distributed DataFrame\u001b[39;00m\n\u001b[1;32m    449\u001b[0m all_links_df \u001b[38;5;241m=\u001b[39m from_delayed(delayed_link_dfs, meta\u001b[38;5;241m=\u001b[39m_GRN_SCHEMA)\n\u001b[0;32m--> 450\u001b[0m all_meta_df \u001b[38;5;241m=\u001b[39m \u001b[43mfrom_delayed\u001b[49m\u001b[43m(\u001b[49m\u001b[43mdelayed_meta_dfs\u001b[49m\u001b[43m,\u001b[49m\u001b[43m \u001b[49m\u001b[43mmeta\u001b[49m\u001b[38;5;241;43m=\u001b[39;49m\u001b[43m_META_SCHEMA\u001b[49m\u001b[43m)\u001b[49m\n\u001b[1;32m    452\u001b[0m \u001b[38;5;66;03m# optionally limit the number of resulting regulatory links, descending by top importance\u001b[39;00m\n\u001b[1;32m    453\u001b[0m \u001b[38;5;28;01mif\u001b[39;00m limit:\n",
      "File \u001b[0;32m~/venvs/versions/3.12.4/GeneRegulation/lib/python3.12/site-packages/dask_expr/io/_delayed.py:119\u001b[0m, in \u001b[0;36mfrom_delayed\u001b[0;34m(dfs, meta, divisions, prefix, verify_meta)\u001b[0m\n\u001b[1;32m    116\u001b[0m     dfs \u001b[38;5;241m=\u001b[39m [dfs]\n\u001b[1;32m    118\u001b[0m \u001b[38;5;28;01mif\u001b[39;00m \u001b[38;5;28mlen\u001b[39m(dfs) \u001b[38;5;241m==\u001b[39m \u001b[38;5;241m0\u001b[39m:\n\u001b[0;32m--> 119\u001b[0m     \u001b[38;5;28;01mraise\u001b[39;00m \u001b[38;5;167;01mTypeError\u001b[39;00m(\u001b[38;5;124m\"\u001b[39m\u001b[38;5;124mMust supply at least one delayed object\u001b[39m\u001b[38;5;124m\"\u001b[39m)\n\u001b[1;32m    121\u001b[0m \u001b[38;5;28;01mif\u001b[39;00m meta \u001b[38;5;129;01mis\u001b[39;00m \u001b[38;5;28;01mNone\u001b[39;00m:\n\u001b[1;32m    122\u001b[0m     meta \u001b[38;5;241m=\u001b[39m delayed(make_meta)(dfs[\u001b[38;5;241m0\u001b[39m])\u001b[38;5;241m.\u001b[39mcompute()\n",
      "\u001b[0;31mTypeError\u001b[0m: Must supply at least one delayed object"
     ]
    }
   ],
   "source": [
    "graph = create_graph(expression_matrix, gene_names, tf_names, client=client, regressor_type='GBM', regressor_kwargs={\n",
    "    'learning_rate': 0.01,\n",
    "    'n_estimators': 5000,  # can be arbitrarily large\n",
    "    'max_features': 0.1,\n",
    "    'subsample': 0.9\n",
    "})"
   ]
  },
  {
   "cell_type": "code",
   "execution_count": 78,
   "metadata": {},
   "outputs": [],
   "source": [
    "tf_matrix, tf_matrix_gene_names = to_tf_matrix(df.T.values, df.index.to_list(), tf_names)"
   ]
  },
  {
   "cell_type": "code",
   "execution_count": 79,
   "metadata": {},
   "outputs": [],
   "source": [
    "client, shutdown_callback = _prepare_client('local')\n",
    "client, shutdown_callback\n",
    "future_tf_matrix = client.scatter(tf_matrix, broadcast=True)"
   ]
  },
  {
   "cell_type": "code",
   "execution_count": 80,
   "metadata": {},
   "outputs": [],
   "source": [
    "[future_tf_matrix_gene_names] = client.scatter([tf_matrix_gene_names], broadcast=True)"
   ]
  },
  {
   "cell_type": "code",
   "execution_count": 81,
   "metadata": {},
   "outputs": [],
   "source": [
    "delayed_link_dfs = []  # collection of delayed link DataFrames\n",
    "delayed_meta_dfs = []\n",
    "\n",
    "for target_gene_index in target_gene_indices(gene_names, 'all'):\n",
    "    target_gene_name = delayed(gene_names[target_gene_index], pure=True)\n",
    "    target_gene_expression = delayed(expression_matrix[:, target_gene_index], pure=True)\n",
    "\n",
    "    delayed_link_df = delayed(infer_partial_network, pure=True)(\n",
    "                'GBM',\n",
    "                {'learning_rate': 0.01, 'n_estimators': 5000, 'max_features': 0.1, 'subsample': 0.9},\n",
    "                future_tf_matrix, \n",
    "                future_tf_matrix_gene_names,\n",
    "                target_gene_name, \n",
    "                target_gene_expression, \n",
    "                False, \n",
    "                25, \n",
    "                666\n",
    "            )\n",
    "    \n",
    "    if delayed_link_df is not None:\n",
    "        delayed_link_dfs.append(delayed_link_df)\n"
   ]
  },
  {
   "cell_type": "code",
   "execution_count": 93,
   "metadata": {},
   "outputs": [
    {
     "data": {
      "text/plain": [
       "36601"
      ]
     },
     "execution_count": 93,
     "metadata": {},
     "output_type": "execute_result"
    }
   ],
   "source": [
    "len(delayed_link_dfs)"
   ]
  },
  {
   "cell_type": "code",
   "execution_count": 87,
   "metadata": {},
   "outputs": [],
   "source": [
    "_GRN_SCHEMA = make_meta({'TF': str, 'target': str, 'importance': float})\n",
    "_META_SCHEMA = make_meta({'target': str, 'n_estimators': int})\n"
   ]
  },
  {
   "cell_type": "code",
   "execution_count": 95,
   "metadata": {},
   "outputs": [
    {
     "data": {
      "text/html": [
       "<div>\n",
       "<style scoped>\n",
       "    .dataframe tbody tr th:only-of-type {\n",
       "        vertical-align: middle;\n",
       "    }\n",
       "\n",
       "    .dataframe tbody tr th {\n",
       "        vertical-align: top;\n",
       "    }\n",
       "\n",
       "    .dataframe thead th {\n",
       "        text-align: right;\n",
       "    }\n",
       "</style>\n",
       "<table border=\"1\" class=\"dataframe\">\n",
       "  <thead>\n",
       "    <tr style=\"text-align: right;\">\n",
       "      <th></th>\n",
       "      <th>target</th>\n",
       "      <th>n_estimators</th>\n",
       "    </tr>\n",
       "  </thead>\n",
       "  <tbody>\n",
       "  </tbody>\n",
       "</table>\n",
       "</div>"
      ],
      "text/plain": [
       "Empty DataFrame\n",
       "Columns: [target, n_estimators]\n",
       "Index: []"
      ]
     },
     "execution_count": 95,
     "metadata": {},
     "output_type": "execute_result"
    }
   ],
   "source": [
    "_META_SCHEMA"
   ]
  },
  {
   "cell_type": "code",
   "execution_count": 91,
   "metadata": {},
   "outputs": [],
   "source": [
    "\n",
    "all_links_df = from_delayed(dfs=delayed_link_dfs, meta=_GRN_SCHEMA)\n",
    "# all_meta_df = from_delayed(dfs=delayed_meta_dfs, meta=_META_SCHEMA)"
   ]
  },
  {
   "cell_type": "code",
   "execution_count": null,
   "metadata": {},
   "outputs": [],
   "source": []
  }
 ],
 "metadata": {
  "kernelspec": {
   "display_name": "Python 3 (ipykernel)",
   "language": "python",
   "name": "python3"
  },
  "language_info": {
   "codemirror_mode": {
    "name": "ipython",
    "version": 3
   },
   "file_extension": ".py",
   "mimetype": "text/x-python",
   "name": "python",
   "nbconvert_exporter": "python",
   "pygments_lexer": "ipython3",
   "version": "3.12.4"
  }
 },
 "nbformat": 4,
 "nbformat_minor": 2
}
