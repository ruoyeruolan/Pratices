{
 "cells": [
  {
   "cell_type": "code",
   "execution_count": 1,
   "metadata": {
    "vscode": {
     "languageId": "r"
    }
   },
   "outputs": [
    {
     "name": "stderr",
     "output_type": "stream",
     "text": [
      "Loading required package: S4Vectors\n",
      "\n",
      "Loading required package: stats4\n",
      "\n",
      "Loading required package: BiocGenerics\n",
      "\n",
      "\n",
      "Attaching package: ‘BiocGenerics’\n",
      "\n",
      "\n",
      "The following objects are masked from ‘package:stats’:\n",
      "\n",
      "    IQR, mad, sd, var, xtabs\n",
      "\n",
      "\n",
      "The following objects are masked from ‘package:base’:\n",
      "\n",
      "    anyDuplicated, append, as.data.frame, basename, cbind, colnames,\n",
      "    dirname, do.call, duplicated, eval, evalq, Filter, Find, get, grep,\n",
      "    grepl, intersect, is.unsorted, lapply, Map, mapply, match, mget,\n",
      "    order, paste, pmax, pmax.int, pmin, pmin.int, Position, rank,\n",
      "    rbind, Reduce, rownames, sapply, setdiff, sort, table, tapply,\n",
      "    union, unique, unsplit, which.max, which.min\n",
      "\n",
      "\n",
      "\n",
      "Attaching package: ‘S4Vectors’\n",
      "\n",
      "\n",
      "The following objects are masked from ‘package:base’:\n",
      "\n",
      "    expand.grid, I, unname\n",
      "\n",
      "\n",
      "Loading required package: IRanges\n",
      "\n",
      "Loading required package: GenomicRanges\n",
      "\n",
      "Loading required package: GenomeInfoDb\n",
      "\n",
      "Loading required package: SummarizedExperiment\n",
      "\n",
      "Loading required package: MatrixGenerics\n",
      "\n",
      "Loading required package: matrixStats\n",
      "\n",
      "\n",
      "Attaching package: ‘MatrixGenerics’\n",
      "\n",
      "\n",
      "The following objects are masked from ‘package:matrixStats’:\n",
      "\n",
      "    colAlls, colAnyNAs, colAnys, colAvgsPerRowSet, colCollapse,\n",
      "    colCounts, colCummaxs, colCummins, colCumprods, colCumsums,\n",
      "    colDiffs, colIQRDiffs, colIQRs, colLogSumExps, colMadDiffs,\n",
      "    colMads, colMaxs, colMeans2, colMedians, colMins, colOrderStats,\n",
      "    colProds, colQuantiles, colRanges, colRanks, colSdDiffs, colSds,\n",
      "    colSums2, colTabulates, colVarDiffs, colVars, colWeightedMads,\n",
      "    colWeightedMeans, colWeightedMedians, colWeightedSds,\n",
      "    colWeightedVars, rowAlls, rowAnyNAs, rowAnys, rowAvgsPerColSet,\n",
      "    rowCollapse, rowCounts, rowCummaxs, rowCummins, rowCumprods,\n",
      "    rowCumsums, rowDiffs, rowIQRDiffs, rowIQRs, rowLogSumExps,\n",
      "    rowMadDiffs, rowMads, rowMaxs, rowMeans2, rowMedians, rowMins,\n",
      "    rowOrderStats, rowProds, rowQuantiles, rowRanges, rowRanks,\n",
      "    rowSdDiffs, rowSds, rowSums2, rowTabulates, rowVarDiffs, rowVars,\n",
      "    rowWeightedMads, rowWeightedMeans, rowWeightedMedians,\n",
      "    rowWeightedSds, rowWeightedVars\n",
      "\n",
      "\n",
      "Loading required package: Biobase\n",
      "\n",
      "Welcome to Bioconductor\n",
      "\n",
      "    Vignettes contain introductory material; view with\n",
      "    'browseVignettes()'. To cite Bioconductor, see\n",
      "    'citation(\"Biobase\")', and for packages 'citation(\"pkgname\")'.\n",
      "\n",
      "\n",
      "\n",
      "Attaching package: ‘Biobase’\n",
      "\n",
      "\n",
      "The following object is masked from ‘package:MatrixGenerics’:\n",
      "\n",
      "    rowMedians\n",
      "\n",
      "\n",
      "The following objects are masked from ‘package:matrixStats’:\n",
      "\n",
      "    anyMissing, rowMedians\n",
      "\n",
      "\n"
     ]
    }
   ],
   "source": [
    "library(magrittr)\n",
    "library(DESeq2)"
   ]
  },
  {
   "cell_type": "code",
   "execution_count": 3,
   "metadata": {
    "vscode": {
     "languageId": "r"
    }
   },
   "outputs": [
    {
     "data": {
      "text/html": [
       "<table class=\"dataframe\">\n",
       "<caption>A data.frame: 6 × 4</caption>\n",
       "<thead>\n",
       "\t<tr><th></th><th scope=col>Sample</th><th scope=col>Cancer</th><th scope=col>Group</th><th scope=col>DataBase</th></tr>\n",
       "\t<tr><th></th><th scope=col>&lt;chr&gt;</th><th scope=col>&lt;chr&gt;</th><th scope=col>&lt;chr&gt;</th><th scope=col>&lt;chr&gt;</th></tr>\n",
       "</thead>\n",
       "<tbody>\n",
       "\t<tr><th scope=row>1</th><td>TCGA-FU-A3HZ-01</td><td>CESC</td><td>Tumor</td><td>TCGA</td></tr>\n",
       "\t<tr><th scope=row>2</th><td>TCGA-DR-A0ZM-01</td><td>CESC</td><td>Tumor</td><td>TCGA</td></tr>\n",
       "\t<tr><th scope=row>3</th><td>TCGA-IR-A3LB-01</td><td>CESC</td><td>Tumor</td><td>TCGA</td></tr>\n",
       "\t<tr><th scope=row>4</th><td>TCGA-DG-A2KJ-01</td><td>CESC</td><td>Tumor</td><td>TCGA</td></tr>\n",
       "\t<tr><th scope=row>5</th><td>TCGA-C5-A7CM-01</td><td>CESC</td><td>Tumor</td><td>TCGA</td></tr>\n",
       "\t<tr><th scope=row>6</th><td>TCGA-VS-A9UJ-01</td><td>CESC</td><td>Tumor</td><td>TCGA</td></tr>\n",
       "</tbody>\n",
       "</table>\n"
      ],
      "text/latex": [
       "A data.frame: 6 × 4\n",
       "\\begin{tabular}{r|llll}\n",
       "  & Sample & Cancer & Group & DataBase\\\\\n",
       "  & <chr> & <chr> & <chr> & <chr>\\\\\n",
       "\\hline\n",
       "\t1 & TCGA-FU-A3HZ-01 & CESC & Tumor & TCGA\\\\\n",
       "\t2 & TCGA-DR-A0ZM-01 & CESC & Tumor & TCGA\\\\\n",
       "\t3 & TCGA-IR-A3LB-01 & CESC & Tumor & TCGA\\\\\n",
       "\t4 & TCGA-DG-A2KJ-01 & CESC & Tumor & TCGA\\\\\n",
       "\t5 & TCGA-C5-A7CM-01 & CESC & Tumor & TCGA\\\\\n",
       "\t6 & TCGA-VS-A9UJ-01 & CESC & Tumor & TCGA\\\\\n",
       "\\end{tabular}\n"
      ],
      "text/markdown": [
       "\n",
       "A data.frame: 6 × 4\n",
       "\n",
       "| <!--/--> | Sample &lt;chr&gt; | Cancer &lt;chr&gt; | Group &lt;chr&gt; | DataBase &lt;chr&gt; |\n",
       "|---|---|---|---|---|\n",
       "| 1 | TCGA-FU-A3HZ-01 | CESC | Tumor | TCGA |\n",
       "| 2 | TCGA-DR-A0ZM-01 | CESC | Tumor | TCGA |\n",
       "| 3 | TCGA-IR-A3LB-01 | CESC | Tumor | TCGA |\n",
       "| 4 | TCGA-DG-A2KJ-01 | CESC | Tumor | TCGA |\n",
       "| 5 | TCGA-C5-A7CM-01 | CESC | Tumor | TCGA |\n",
       "| 6 | TCGA-VS-A9UJ-01 | CESC | Tumor | TCGA |\n",
       "\n"
      ],
      "text/plain": [
       "  Sample          Cancer Group DataBase\n",
       "1 TCGA-FU-A3HZ-01 CESC   Tumor TCGA    \n",
       "2 TCGA-DR-A0ZM-01 CESC   Tumor TCGA    \n",
       "3 TCGA-IR-A3LB-01 CESC   Tumor TCGA    \n",
       "4 TCGA-DG-A2KJ-01 CESC   Tumor TCGA    \n",
       "5 TCGA-C5-A7CM-01 CESC   Tumor TCGA    \n",
       "6 TCGA-VS-A9UJ-01 CESC   Tumor TCGA    "
      ]
     },
     "metadata": {},
     "output_type": "display_data"
    }
   ],
   "source": [
    "metaInfo <- read.table('/public/workspace/ryrl/FK/TCGA/RNA-seq/Meta/metaSub.txt', header = T, sep = '\\t')\n",
    "# metaInfo$Group <- factor(metaInfo$Group,levels = c('Tumor', 'Normal'))\n",
    "# metaInfo$DataBase <- factor(metaInfo$DataBase,levels = c('TCGA', 'GTEx'))\n",
    "head(metaInfo)"
   ]
  },
  {
   "cell_type": "code",
   "execution_count": 4,
   "metadata": {
    "vscode": {
     "languageId": "r"
    }
   },
   "outputs": [
    {
     "data": {
      "text/html": [
       "<table class=\"dataframe\">\n",
       "<caption>A data.frame: 1 × 1</caption>\n",
       "<thead>\n",
       "\t<tr><th></th><th scope=col>DataBase</th></tr>\n",
       "\t<tr><th></th><th scope=col>&lt;chr&gt;</th></tr>\n",
       "</thead>\n",
       "<tbody>\n",
       "\t<tr><th scope=row>1</th><td>TCGA</td></tr>\n",
       "</tbody>\n",
       "</table>\n"
      ],
      "text/latex": [
       "A data.frame: 1 × 1\n",
       "\\begin{tabular}{r|l}\n",
       "  & DataBase\\\\\n",
       "  & <chr>\\\\\n",
       "\\hline\n",
       "\t1 & TCGA\\\\\n",
       "\\end{tabular}\n"
      ],
      "text/markdown": [
       "\n",
       "A data.frame: 1 × 1\n",
       "\n",
       "| <!--/--> | DataBase &lt;chr&gt; |\n",
       "|---|---|\n",
       "| 1 | TCGA |\n",
       "\n"
      ],
      "text/plain": [
       "  DataBase\n",
       "1 TCGA    "
      ]
     },
     "metadata": {},
     "output_type": "display_data"
    }
   ],
   "source": [
    "unique(metaInfo['DataBase'])"
   ]
  },
  {
   "cell_type": "code",
   "execution_count": 33,
   "metadata": {
    "vscode": {
     "languageId": "r"
    }
   },
   "outputs": [
    {
     "data": {
      "text/html": [
       "<table class=\"dataframe\">\n",
       "<caption>A data.frame: 6 × 4</caption>\n",
       "<thead>\n",
       "\t<tr><th></th><th scope=col>Cancer</th><th scope=col>Group</th><th scope=col>DataBase</th><th scope=col>Group_</th></tr>\n",
       "\t<tr><th></th><th scope=col>&lt;chr&gt;</th><th scope=col>&lt;chr&gt;</th><th scope=col>&lt;chr&gt;</th><th scope=col>&lt;fct&gt;</th></tr>\n",
       "</thead>\n",
       "<tbody>\n",
       "\t<tr><th scope=row>TCGA-FU-A3HZ-01</th><td>CESC</td><td>Tumor</td><td>TCGA</td><td>Others</td></tr>\n",
       "\t<tr><th scope=row>TCGA-DR-A0ZM-01</th><td>CESC</td><td>Tumor</td><td>TCGA</td><td>Others</td></tr>\n",
       "\t<tr><th scope=row>TCGA-IR-A3LB-01</th><td>CESC</td><td>Tumor</td><td>TCGA</td><td>Others</td></tr>\n",
       "\t<tr><th scope=row>TCGA-DG-A2KJ-01</th><td>CESC</td><td>Tumor</td><td>TCGA</td><td>Others</td></tr>\n",
       "\t<tr><th scope=row>TCGA-C5-A7CM-01</th><td>CESC</td><td>Tumor</td><td>TCGA</td><td>Others</td></tr>\n",
       "\t<tr><th scope=row>TCGA-VS-A9UJ-01</th><td>CESC</td><td>Tumor</td><td>TCGA</td><td>Others</td></tr>\n",
       "</tbody>\n",
       "</table>\n"
      ],
      "text/latex": [
       "A data.frame: 6 × 4\n",
       "\\begin{tabular}{r|llll}\n",
       "  & Cancer & Group & DataBase & Group\\_\\\\\n",
       "  & <chr> & <chr> & <chr> & <fct>\\\\\n",
       "\\hline\n",
       "\tTCGA-FU-A3HZ-01 & CESC & Tumor & TCGA & Others\\\\\n",
       "\tTCGA-DR-A0ZM-01 & CESC & Tumor & TCGA & Others\\\\\n",
       "\tTCGA-IR-A3LB-01 & CESC & Tumor & TCGA & Others\\\\\n",
       "\tTCGA-DG-A2KJ-01 & CESC & Tumor & TCGA & Others\\\\\n",
       "\tTCGA-C5-A7CM-01 & CESC & Tumor & TCGA & Others\\\\\n",
       "\tTCGA-VS-A9UJ-01 & CESC & Tumor & TCGA & Others\\\\\n",
       "\\end{tabular}\n"
      ],
      "text/markdown": [
       "\n",
       "A data.frame: 6 × 4\n",
       "\n",
       "| <!--/--> | Cancer &lt;chr&gt; | Group &lt;chr&gt; | DataBase &lt;chr&gt; | Group_ &lt;fct&gt; |\n",
       "|---|---|---|---|---|\n",
       "| TCGA-FU-A3HZ-01 | CESC | Tumor | TCGA | Others |\n",
       "| TCGA-DR-A0ZM-01 | CESC | Tumor | TCGA | Others |\n",
       "| TCGA-IR-A3LB-01 | CESC | Tumor | TCGA | Others |\n",
       "| TCGA-DG-A2KJ-01 | CESC | Tumor | TCGA | Others |\n",
       "| TCGA-C5-A7CM-01 | CESC | Tumor | TCGA | Others |\n",
       "| TCGA-VS-A9UJ-01 | CESC | Tumor | TCGA | Others |\n",
       "\n"
      ],
      "text/plain": [
       "                Cancer Group DataBase Group_\n",
       "TCGA-FU-A3HZ-01 CESC   Tumor TCGA     Others\n",
       "TCGA-DR-A0ZM-01 CESC   Tumor TCGA     Others\n",
       "TCGA-IR-A3LB-01 CESC   Tumor TCGA     Others\n",
       "TCGA-DG-A2KJ-01 CESC   Tumor TCGA     Others\n",
       "TCGA-C5-A7CM-01 CESC   Tumor TCGA     Others\n",
       "TCGA-VS-A9UJ-01 CESC   Tumor TCGA     Others"
      ]
     },
     "metadata": {},
     "output_type": "display_data"
    }
   ],
   "source": [
    "cancer <- 'BRCA'\n",
    "dirs <- '/public/workspace/ryrl/projects/classmates/ryrl/Cancers/TCGA/'\n",
    "metaSub <- metaInfo  # [metaInfo$Cancer == cancer,]\n",
    "rownames(metaSub) <- metaSub$Sample\n",
    "metaSub$Sample <- NULL\n",
    "metaSub$Group_ <- ifelse(metaSub$Cancer == cancer, yes = cancer, no = 'Others')\n",
    "metaSub$Group_ <- factor(x = metaSub$Group_, levels = c(cancer, 'Others'))\n",
    "head(metaSub)"
   ]
  },
  {
   "cell_type": "code",
   "execution_count": 34,
   "metadata": {
    "vscode": {
     "languageId": "r"
    }
   },
   "outputs": [
    {
     "data": {
      "text/html": [
       "<style>\n",
       ".list-inline {list-style: none; margin:0; padding: 0}\n",
       ".list-inline>li {display: inline-block}\n",
       ".list-inline>li:not(:last-child)::after {content: \"\\00b7\"; padding: 0 .5ex}\n",
       "</style>\n",
       "<ol class=list-inline><li>'CESC'</li><li>'KIRP'</li><li>'BRCA'</li><li>'MESO'</li><li>'GBM'</li><li>'COAD'</li><li>'PAAD'</li><li>'LIHC'</li><li>'UCEC'</li><li>'LUSC'</li><li>'HNSC'</li><li>'KICH'</li><li>'LGG'</li><li>'UCS'</li><li>'ESCA'</li><li>'READ'</li><li>'UVM'</li><li>'BLCA'</li><li>'ACC'</li><li>'PRAD'</li><li>'KIRC'</li><li>'LUAD'</li><li>'PCPG'</li><li>'DLBC'</li><li>'OV'</li><li>'CHOL'</li></ol>\n"
      ],
      "text/latex": [
       "\\begin{enumerate*}\n",
       "\\item 'CESC'\n",
       "\\item 'KIRP'\n",
       "\\item 'BRCA'\n",
       "\\item 'MESO'\n",
       "\\item 'GBM'\n",
       "\\item 'COAD'\n",
       "\\item 'PAAD'\n",
       "\\item 'LIHC'\n",
       "\\item 'UCEC'\n",
       "\\item 'LUSC'\n",
       "\\item 'HNSC'\n",
       "\\item 'KICH'\n",
       "\\item 'LGG'\n",
       "\\item 'UCS'\n",
       "\\item 'ESCA'\n",
       "\\item 'READ'\n",
       "\\item 'UVM'\n",
       "\\item 'BLCA'\n",
       "\\item 'ACC'\n",
       "\\item 'PRAD'\n",
       "\\item 'KIRC'\n",
       "\\item 'LUAD'\n",
       "\\item 'PCPG'\n",
       "\\item 'DLBC'\n",
       "\\item 'OV'\n",
       "\\item 'CHOL'\n",
       "\\end{enumerate*}\n"
      ],
      "text/markdown": [
       "1. 'CESC'\n",
       "2. 'KIRP'\n",
       "3. 'BRCA'\n",
       "4. 'MESO'\n",
       "5. 'GBM'\n",
       "6. 'COAD'\n",
       "7. 'PAAD'\n",
       "8. 'LIHC'\n",
       "9. 'UCEC'\n",
       "10. 'LUSC'\n",
       "11. 'HNSC'\n",
       "12. 'KICH'\n",
       "13. 'LGG'\n",
       "14. 'UCS'\n",
       "15. 'ESCA'\n",
       "16. 'READ'\n",
       "17. 'UVM'\n",
       "18. 'BLCA'\n",
       "19. 'ACC'\n",
       "20. 'PRAD'\n",
       "21. 'KIRC'\n",
       "22. 'LUAD'\n",
       "23. 'PCPG'\n",
       "24. 'DLBC'\n",
       "25. 'OV'\n",
       "26. 'CHOL'\n",
       "\n",
       "\n"
      ],
      "text/plain": [
       " [1] \"CESC\" \"KIRP\" \"BRCA\" \"MESO\" \"GBM\"  \"COAD\" \"PAAD\" \"LIHC\" \"UCEC\" \"LUSC\"\n",
       "[11] \"HNSC\" \"KICH\" \"LGG\"  \"UCS\"  \"ESCA\" \"READ\" \"UVM\"  \"BLCA\" \"ACC\"  \"PRAD\"\n",
       "[21] \"KIRC\" \"LUAD\" \"PCPG\" \"DLBC\" \"OV\"   \"CHOL\""
      ]
     },
     "metadata": {},
     "output_type": "display_data"
    }
   ],
   "source": [
    "unique(metaSub$Cancer)"
   ]
  },
  {
   "cell_type": "code",
   "execution_count": 35,
   "metadata": {
    "vscode": {
     "languageId": "r"
    }
   },
   "outputs": [
    {
     "data": {
      "text/plain": [
       "\n",
       "  BRCA Others \n",
       "  1098   7134 "
      ]
     },
     "metadata": {},
     "output_type": "display_data"
    }
   ],
   "source": [
    "table(metaSub$Group_)"
   ]
  },
  {
   "cell_type": "code",
   "execution_count": 36,
   "metadata": {
    "vscode": {
     "languageId": "r"
    }
   },
   "outputs": [
    {
     "data": {
      "text/html": [
       "<table class=\"dataframe\">\n",
       "<caption>A matrix: 6 × 8232 of type int</caption>\n",
       "<thead>\n",
       "\t<tr><th></th><th scope=col>TCGA-FU-A3HZ-01</th><th scope=col>TCGA-DR-A0ZM-01</th><th scope=col>TCGA-IR-A3LB-01</th><th scope=col>TCGA-DG-A2KJ-01</th><th scope=col>TCGA-C5-A7CM-01</th><th scope=col>TCGA-VS-A9UJ-01</th><th scope=col>TCGA-VS-A8QH-01</th><th scope=col>TCGA-MY-A5BF-01</th><th scope=col>TCGA-JW-A5VJ-01</th><th scope=col>TCGA-C5-A1BN-01</th><th scope=col>⋯</th><th scope=col>TCGA-W5-AA38-01</th><th scope=col>TCGA-4G-AAZO-01</th><th scope=col>TCGA-ZD-A8I3-01</th><th scope=col>TCGA-W5-AA2O-01</th><th scope=col>TCGA-ZH-A8Y6-01</th><th scope=col>TCGA-W6-AA0S-01</th><th scope=col>TCGA-W5-AA33-01</th><th scope=col>TCGA-YR-A95A-01</th><th scope=col>TCGA-W5-AA2I-01</th><th scope=col>TCGA-W5-AA34-01</th></tr>\n",
       "</thead>\n",
       "<tbody>\n",
       "\t<tr><th scope=row>ENSG00000000003</th><td>3423</td><td>2162</td><td>10190</td><td>462</td><td>5349</td><td>2661</td><td>4561</td><td>1884</td><td>1582</td><td>1869</td><td>⋯</td><td>8249</td><td>1631</td><td>5254</td><td>2883</td><td> 576</td><td>3632</td><td>11342</td><td>10086</td><td>4245</td><td>8150</td></tr>\n",
       "\t<tr><th scope=row>ENSG00000000005</th><td>   0</td><td>   0</td><td>    6</td><td>  0</td><td>   1</td><td>   0</td><td>  36</td><td>   2</td><td>   0</td><td>   0</td><td>⋯</td><td>   1</td><td>   0</td><td>   1</td><td>   0</td><td>   0</td><td>   1</td><td>    1</td><td>   10</td><td>   0</td><td>   0</td></tr>\n",
       "\t<tr><th scope=row>ENSG00000000419</th><td>1952</td><td>1275</td><td> 3556</td><td>708</td><td>2574</td><td> 984</td><td>3249</td><td>3402</td><td>1878</td><td>3553</td><td>⋯</td><td>1696</td><td> 757</td><td>1212</td><td>1491</td><td>1314</td><td>1486</td><td>  976</td><td> 1273</td><td> 788</td><td>1770</td></tr>\n",
       "\t<tr><th scope=row>ENSG00000000457</th><td> 613</td><td> 878</td><td> 1270</td><td>112</td><td> 611</td><td> 621</td><td> 436</td><td> 604</td><td>1185</td><td>1316</td><td>⋯</td><td> 519</td><td>1535</td><td> 753</td><td>1017</td><td>1384</td><td> 558</td><td> 1538</td><td> 1026</td><td> 714</td><td>1202</td></tr>\n",
       "\t<tr><th scope=row>ENSG00000000460</th><td> 459</td><td> 339</td><td>  912</td><td> 47</td><td> 494</td><td> 273</td><td> 337</td><td> 834</td><td> 603</td><td>1868</td><td>⋯</td><td> 297</td><td> 162</td><td> 370</td><td> 358</td><td> 254</td><td> 185</td><td>  390</td><td>  166</td><td> 307</td><td> 378</td></tr>\n",
       "\t<tr><th scope=row>ENSG00000000938</th><td> 210</td><td> 719</td><td>  323</td><td> 91</td><td> 177</td><td>  74</td><td> 115</td><td> 350</td><td> 401</td><td>  81</td><td>⋯</td><td> 182</td><td> 137</td><td> 143</td><td> 248</td><td> 103</td><td> 570</td><td>  668</td><td>  151</td><td> 118</td><td> 223</td></tr>\n",
       "</tbody>\n",
       "</table>\n"
      ],
      "text/latex": [
       "A matrix: 6 × 8232 of type int\n",
       "\\begin{tabular}{r|lllllllllllllllllllll}\n",
       "  & TCGA-FU-A3HZ-01 & TCGA-DR-A0ZM-01 & TCGA-IR-A3LB-01 & TCGA-DG-A2KJ-01 & TCGA-C5-A7CM-01 & TCGA-VS-A9UJ-01 & TCGA-VS-A8QH-01 & TCGA-MY-A5BF-01 & TCGA-JW-A5VJ-01 & TCGA-C5-A1BN-01 & ⋯ & TCGA-W5-AA38-01 & TCGA-4G-AAZO-01 & TCGA-ZD-A8I3-01 & TCGA-W5-AA2O-01 & TCGA-ZH-A8Y6-01 & TCGA-W6-AA0S-01 & TCGA-W5-AA33-01 & TCGA-YR-A95A-01 & TCGA-W5-AA2I-01 & TCGA-W5-AA34-01\\\\\n",
       "\\hline\n",
       "\tENSG00000000003 & 3423 & 2162 & 10190 & 462 & 5349 & 2661 & 4561 & 1884 & 1582 & 1869 & ⋯ & 8249 & 1631 & 5254 & 2883 &  576 & 3632 & 11342 & 10086 & 4245 & 8150\\\\\n",
       "\tENSG00000000005 &    0 &    0 &     6 &   0 &    1 &    0 &   36 &    2 &    0 &    0 & ⋯ &    1 &    0 &    1 &    0 &    0 &    1 &     1 &    10 &    0 &    0\\\\\n",
       "\tENSG00000000419 & 1952 & 1275 &  3556 & 708 & 2574 &  984 & 3249 & 3402 & 1878 & 3553 & ⋯ & 1696 &  757 & 1212 & 1491 & 1314 & 1486 &   976 &  1273 &  788 & 1770\\\\\n",
       "\tENSG00000000457 &  613 &  878 &  1270 & 112 &  611 &  621 &  436 &  604 & 1185 & 1316 & ⋯ &  519 & 1535 &  753 & 1017 & 1384 &  558 &  1538 &  1026 &  714 & 1202\\\\\n",
       "\tENSG00000000460 &  459 &  339 &   912 &  47 &  494 &  273 &  337 &  834 &  603 & 1868 & ⋯ &  297 &  162 &  370 &  358 &  254 &  185 &   390 &   166 &  307 &  378\\\\\n",
       "\tENSG00000000938 &  210 &  719 &   323 &  91 &  177 &   74 &  115 &  350 &  401 &   81 & ⋯ &  182 &  137 &  143 &  248 &  103 &  570 &   668 &   151 &  118 &  223\\\\\n",
       "\\end{tabular}\n"
      ],
      "text/markdown": [
       "\n",
       "A matrix: 6 × 8232 of type int\n",
       "\n",
       "| <!--/--> | TCGA-FU-A3HZ-01 | TCGA-DR-A0ZM-01 | TCGA-IR-A3LB-01 | TCGA-DG-A2KJ-01 | TCGA-C5-A7CM-01 | TCGA-VS-A9UJ-01 | TCGA-VS-A8QH-01 | TCGA-MY-A5BF-01 | TCGA-JW-A5VJ-01 | TCGA-C5-A1BN-01 | ⋯ | TCGA-W5-AA38-01 | TCGA-4G-AAZO-01 | TCGA-ZD-A8I3-01 | TCGA-W5-AA2O-01 | TCGA-ZH-A8Y6-01 | TCGA-W6-AA0S-01 | TCGA-W5-AA33-01 | TCGA-YR-A95A-01 | TCGA-W5-AA2I-01 | TCGA-W5-AA34-01 |\n",
       "|---|---|---|---|---|---|---|---|---|---|---|---|---|---|---|---|---|---|---|---|---|---|\n",
       "| ENSG00000000003 | 3423 | 2162 | 10190 | 462 | 5349 | 2661 | 4561 | 1884 | 1582 | 1869 | ⋯ | 8249 | 1631 | 5254 | 2883 |  576 | 3632 | 11342 | 10086 | 4245 | 8150 |\n",
       "| ENSG00000000005 |    0 |    0 |     6 |   0 |    1 |    0 |   36 |    2 |    0 |    0 | ⋯ |    1 |    0 |    1 |    0 |    0 |    1 |     1 |    10 |    0 |    0 |\n",
       "| ENSG00000000419 | 1952 | 1275 |  3556 | 708 | 2574 |  984 | 3249 | 3402 | 1878 | 3553 | ⋯ | 1696 |  757 | 1212 | 1491 | 1314 | 1486 |   976 |  1273 |  788 | 1770 |\n",
       "| ENSG00000000457 |  613 |  878 |  1270 | 112 |  611 |  621 |  436 |  604 | 1185 | 1316 | ⋯ |  519 | 1535 |  753 | 1017 | 1384 |  558 |  1538 |  1026 |  714 | 1202 |\n",
       "| ENSG00000000460 |  459 |  339 |   912 |  47 |  494 |  273 |  337 |  834 |  603 | 1868 | ⋯ |  297 |  162 |  370 |  358 |  254 |  185 |   390 |   166 |  307 |  378 |\n",
       "| ENSG00000000938 |  210 |  719 |   323 |  91 |  177 |   74 |  115 |  350 |  401 |   81 | ⋯ |  182 |  137 |  143 |  248 |  103 |  570 |   668 |   151 |  118 |  223 |\n",
       "\n"
      ],
      "text/plain": [
       "                TCGA-FU-A3HZ-01 TCGA-DR-A0ZM-01 TCGA-IR-A3LB-01 TCGA-DG-A2KJ-01\n",
       "ENSG00000000003 3423            2162            10190           462            \n",
       "ENSG00000000005    0               0                6             0            \n",
       "ENSG00000000419 1952            1275             3556           708            \n",
       "ENSG00000000457  613             878             1270           112            \n",
       "ENSG00000000460  459             339              912            47            \n",
       "ENSG00000000938  210             719              323            91            \n",
       "                TCGA-C5-A7CM-01 TCGA-VS-A9UJ-01 TCGA-VS-A8QH-01 TCGA-MY-A5BF-01\n",
       "ENSG00000000003 5349            2661            4561            1884           \n",
       "ENSG00000000005    1               0              36               2           \n",
       "ENSG00000000419 2574             984            3249            3402           \n",
       "ENSG00000000457  611             621             436             604           \n",
       "ENSG00000000460  494             273             337             834           \n",
       "ENSG00000000938  177              74             115             350           \n",
       "                TCGA-JW-A5VJ-01 TCGA-C5-A1BN-01 ⋯ TCGA-W5-AA38-01\n",
       "ENSG00000000003 1582            1869            ⋯ 8249           \n",
       "ENSG00000000005    0               0            ⋯    1           \n",
       "ENSG00000000419 1878            3553            ⋯ 1696           \n",
       "ENSG00000000457 1185            1316            ⋯  519           \n",
       "ENSG00000000460  603            1868            ⋯  297           \n",
       "ENSG00000000938  401              81            ⋯  182           \n",
       "                TCGA-4G-AAZO-01 TCGA-ZD-A8I3-01 TCGA-W5-AA2O-01 TCGA-ZH-A8Y6-01\n",
       "ENSG00000000003 1631            5254            2883             576           \n",
       "ENSG00000000005    0               1               0               0           \n",
       "ENSG00000000419  757            1212            1491            1314           \n",
       "ENSG00000000457 1535             753            1017            1384           \n",
       "ENSG00000000460  162             370             358             254           \n",
       "ENSG00000000938  137             143             248             103           \n",
       "                TCGA-W6-AA0S-01 TCGA-W5-AA33-01 TCGA-YR-A95A-01 TCGA-W5-AA2I-01\n",
       "ENSG00000000003 3632            11342           10086           4245           \n",
       "ENSG00000000005    1                1              10              0           \n",
       "ENSG00000000419 1486              976            1273            788           \n",
       "ENSG00000000457  558             1538            1026            714           \n",
       "ENSG00000000460  185              390             166            307           \n",
       "ENSG00000000938  570              668             151            118           \n",
       "                TCGA-W5-AA34-01\n",
       "ENSG00000000003 8150           \n",
       "ENSG00000000005    0           \n",
       "ENSG00000000419 1770           \n",
       "ENSG00000000457 1202           \n",
       "ENSG00000000460  378           \n",
       "ENSG00000000938  223           "
      ]
     },
     "metadata": {},
     "output_type": "display_data"
    }
   ],
   "source": [
    "# countData <- read.table(paste0(dirs, cancer, '.txt'), header = T, row.names = 1, sep = '\\t', check.names = F) %>% as.matrix()\n",
    "countData <- read.table(\n",
    "    '/public/workspace/ryrl/projects/classmates/ryrl/Cancers/TCGA/intermediate/Counts.txt',\n",
    "    header = T, row.names = 1, sep = '\\t', check.names = F) %>% as.matrix()\n",
    "countData <- countData[grep('ENSG', x = rownames(countData)),]\n",
    "# metaSub <- metaSub[match(colnames(countData), rownames(metaSub)),]  # match the order of metaSub and countData, ref=countData\n",
    "head(countData)"
   ]
  },
  {
   "cell_type": "code",
   "execution_count": null,
   "metadata": {
    "vscode": {
     "languageId": "r"
    }
   },
   "outputs": [],
   "source": []
  },
  {
   "cell_type": "code",
   "execution_count": 37,
   "metadata": {
    "vscode": {
     "languageId": "r"
    }
   },
   "outputs": [
    {
     "data": {
      "text/html": [
       "1"
      ],
      "text/latex": [
       "1"
      ],
      "text/markdown": [
       "1"
      ],
      "text/plain": [
       "[1] 1"
      ]
     },
     "metadata": {},
     "output_type": "display_data"
    }
   ],
   "source": [
    "length(unique(metaSub$DataBase))"
   ]
  },
  {
   "cell_type": "code",
   "execution_count": 38,
   "metadata": {
    "vscode": {
     "languageId": "r"
    }
   },
   "outputs": [
    {
     "data": {
      "text/html": [
       "<style>\n",
       ".list-inline {list-style: none; margin:0; padding: 0}\n",
       ".list-inline>li {display: inline-block}\n",
       ".list-inline>li:not(:last-child)::after {content: \"\\00b7\"; padding: 0 .5ex}\n",
       "</style>\n",
       "<ol class=list-inline><li>60483</li><li>8232</li></ol>\n"
      ],
      "text/latex": [
       "\\begin{enumerate*}\n",
       "\\item 60483\n",
       "\\item 8232\n",
       "\\end{enumerate*}\n"
      ],
      "text/markdown": [
       "1. 60483\n",
       "2. 8232\n",
       "\n",
       "\n"
      ],
      "text/plain": [
       "[1] 60483  8232"
      ]
     },
     "metadata": {},
     "output_type": "display_data"
    }
   ],
   "source": [
    "dim(countData)"
   ]
  },
  {
   "cell_type": "code",
   "execution_count": 39,
   "metadata": {
    "vscode": {
     "languageId": "r"
    }
   },
   "outputs": [
    {
     "data": {
      "text/plain": [
       "\n",
       "TRUE \n",
       "8232 "
      ]
     },
     "metadata": {},
     "output_type": "display_data"
    }
   ],
   "source": [
    "table(rownames(metaSub) == colnames(countData))"
   ]
  },
  {
   "cell_type": "code",
   "execution_count": 40,
   "metadata": {
    "vscode": {
     "languageId": "r"
    }
   },
   "outputs": [
    {
     "data": {
      "text/plain": [
       "\n",
       "TCGA \n",
       "8232 "
      ]
     },
     "metadata": {},
     "output_type": "display_data"
    }
   ],
   "source": [
    "table(metaSub$DataBase)"
   ]
  },
  {
   "cell_type": "code",
   "execution_count": 41,
   "metadata": {
    "vscode": {
     "languageId": "r"
    }
   },
   "outputs": [
    {
     "data": {
      "text/plain": [
       "\n",
       "Tumor \n",
       " 8232 "
      ]
     },
     "metadata": {},
     "output_type": "display_data"
    }
   ],
   "source": [
    "table(metaSub['Group'])"
   ]
  },
  {
   "cell_type": "code",
   "execution_count": 42,
   "metadata": {
    "vscode": {
     "languageId": "r"
    }
   },
   "outputs": [
    {
     "data": {
      "text/html": [
       "<style>\n",
       ".list-inline {list-style: none; margin:0; padding: 0}\n",
       ".list-inline>li {display: inline-block}\n",
       ".list-inline>li:not(:last-child)::after {content: \"\\00b7\"; padding: 0 .5ex}\n",
       "</style>\n",
       "<ol class=list-inline><li>8232</li><li>4</li></ol>\n"
      ],
      "text/latex": [
       "\\begin{enumerate*}\n",
       "\\item 8232\n",
       "\\item 4\n",
       "\\end{enumerate*}\n"
      ],
      "text/markdown": [
       "1. 8232\n",
       "2. 4\n",
       "\n",
       "\n"
      ],
      "text/plain": [
       "[1] 8232    4"
      ]
     },
     "metadata": {},
     "output_type": "display_data"
    }
   ],
   "source": [
    "dim(metaSub)"
   ]
  },
  {
   "cell_type": "code",
   "execution_count": 43,
   "metadata": {
    "vscode": {
     "languageId": "r"
    }
   },
   "outputs": [
    {
     "data": {
      "text/plain": [
       "\n",
       "  BRCA Others \n",
       "  1098   7134 "
      ]
     },
     "metadata": {},
     "output_type": "display_data"
    }
   ],
   "source": [
    "table(metaSub$Group_)"
   ]
  },
  {
   "cell_type": "code",
   "execution_count": 58,
   "metadata": {
    "vscode": {
     "languageId": "r"
    }
   },
   "outputs": [
    {
     "name": "stderr",
     "output_type": "stream",
     "text": [
      "Warning message in DESeqDataSet(se, design = design, ignoreRank):\n",
      "“some variables in design formula are characters, converting to factors”\n"
     ]
    },
    {
     "data": {
      "text/plain": [
       "class: DESeqDataSet \n",
       "dim: 60483 8232 \n",
       "metadata(1): version\n",
       "assays(1): counts\n",
       "rownames(60483): ENSG00000000003 ENSG00000000005 ... ENSGR0000280767\n",
       "  ENSGR0000281849\n",
       "rowData names(0):\n",
       "colnames(8232): TCGA-FU-A3HZ-01 TCGA-DR-A0ZM-01 ... TCGA-W5-AA2I-01\n",
       "  TCGA-W5-AA34-01\n",
       "colData names(4): Cancer Group DataBase Group_"
      ]
     },
     "metadata": {},
     "output_type": "display_data"
    }
   ],
   "source": [
    "dds <- DESeqDataSetFromMatrix(\n",
    "    countData = countData,\n",
    "    colData = metaSub,\n",
    "    design = ~ Cancer # ~ DataBase + Group\n",
    "    # tidy = T\n",
    ")\n",
    "dds"
   ]
  },
  {
   "cell_type": "code",
   "execution_count": 48,
   "metadata": {
    "vscode": {
     "languageId": "r"
    }
   },
   "outputs": [
    {
     "data": {
      "image/png": "[encoded data removed]",
      "text/plain": [
       "plot without title"
      ]
     },
     "metadata": {
      "image/png": {
       "height": 420,
       "width": 420
      }
     },
     "output_type": "display_data"
    }
   ],
   "source": [
    "vsd <- vst(dds, blind = F)\n",
    "plotPCA(vsd, intgroup = \"Group_\")  # The plot indicates the batch effect is significant"
   ]
  },
  {
   "cell_type": "code",
   "execution_count": 59,
   "metadata": {
    "vscode": {
     "languageId": "r"
    }
   },
   "outputs": [],
   "source": [
    "smallestGroupSize <- .5\n",
    "keep <- rowSums(counts(dds) > 0) / ncol(countData) >= smallestGroupSize\n",
    "dds <- dds[keep,]"
   ]
  },
  {
   "cell_type": "code",
   "execution_count": 60,
   "metadata": {
    "vscode": {
     "languageId": "r"
    }
   },
   "outputs": [],
   "source": [
    "# dds$Group <- relevel(dds$Cancer, ref = cancer)\n",
    "# dds$Group"
   ]
  },
  {
   "cell_type": "code",
   "execution_count": 61,
   "metadata": {
    "vscode": {
     "languageId": "r"
    }
   },
   "outputs": [
    {
     "name": "stderr",
     "output_type": "stream",
     "text": [
      "estimating size factors\n",
      "\n",
      "estimating dispersions\n",
      "\n",
      "gene-wise dispersion estimates\n",
      "\n"
     ]
    }
   ],
   "source": [
    "dds <- DESeq(dds)\n",
    "# res <- results(dds)\n",
    "res"
   ]
  },
  {
   "cell_type": "code",
   "execution_count": null,
   "metadata": {
    "vscode": {
     "languageId": "r"
    }
   },
   "outputs": [
    {
     "ename": "ERROR",
     "evalue": "Error in results(dds, contrast = c(\"Group_\", cancer, \"Others\"), pAdjustMethod = \"fdr\", : couldn't find results. you should first run DESeq()\n",
     "output_type": "error",
     "traceback": [
      "Error in results(dds, contrast = c(\"Group_\", cancer, \"Others\"), pAdjustMethod = \"fdr\", : couldn't find results. you should first run DESeq()\nTraceback:\n",
      "1. stop(\"couldn't find results. you should first run DESeq()\")",
      "2. .handleSimpleError(function (cnd) \n . {\n .     watcher$capture_plot_and_output()\n .     cnd <- sanitize_call(cnd)\n .     watcher$push(cnd)\n .     switch(on_error, continue = invokeRestart(\"eval_continue\"), \n .         stop = invokeRestart(\"eval_stop\"), error = invokeRestart(\"eval_error\", \n .             cnd))\n . }, \"couldn't find results. you should first run DESeq()\", base::quote(results(dds, \n .     contrast = c(\"Group_\", cancer, \"Others\"), pAdjustMethod = \"fdr\", \n .     parallel = F, tidy = T)))"
     ]
    }
   ],
   "source": [
    "res <- results(dds, contrast=c(\"Group_\", cancer,\"Others\"), pAdjustMethod = 'fdr', parallel = F, tidy = T)\n",
    "colnames(res)[1] <- 'EnsembleID'\n",
    "head(res)"
   ]
  },
  {
   "cell_type": "code",
   "execution_count": 28,
   "metadata": {
    "vscode": {
     "languageId": "r"
    }
   },
   "outputs": [
    {
     "data": {
      "text/html": [
       "<table class=\"dataframe\">\n",
       "<caption>A data.frame: 6 × 8</caption>\n",
       "<thead>\n",
       "\t<tr><th></th><th scope=col>EnsembleID</th><th scope=col>baseMean</th><th scope=col>log2FoldChange</th><th scope=col>lfcSE</th><th scope=col>stat</th><th scope=col>pvalue</th><th scope=col>padj</th><th scope=col>Cancer</th></tr>\n",
       "\t<tr><th></th><th scope=col>&lt;chr&gt;</th><th scope=col>&lt;dbl&gt;</th><th scope=col>&lt;dbl&gt;</th><th scope=col>&lt;dbl&gt;</th><th scope=col>&lt;dbl&gt;</th><th scope=col>&lt;dbl&gt;</th><th scope=col>&lt;dbl&gt;</th><th scope=col>&lt;chr&gt;</th></tr>\n",
       "</thead>\n",
       "<tbody>\n",
       "\t<tr><th scope=row>1</th><td>ENSG00000000003</td><td>5711.992183</td><td> 0.4448232</td><td>0.2494266</td><td> 1.783383</td><td>7.452401e-02</td><td>1.284886e-01</td><td>BLCA</td></tr>\n",
       "\t<tr><th scope=row>2</th><td>ENSG00000000005</td><td>   6.828814</td><td>-1.2062691</td><td>0.6157452</td><td>-1.959039</td><td>5.010819e-02</td><td>9.198708e-02</td><td>BLCA</td></tr>\n",
       "\t<tr><th scope=row>3</th><td>ENSG00000000419</td><td>2100.071081</td><td> 0.3953938</td><td>0.1114555</td><td> 3.547549</td><td>3.888332e-04</td><td>1.385160e-03</td><td>BLCA</td></tr>\n",
       "\t<tr><th scope=row>4</th><td>ENSG00000000457</td><td> 884.164792</td><td> 0.3003760</td><td>0.1375030</td><td> 2.184505</td><td>2.892514e-02</td><td>5.787166e-02</td><td>BLCA</td></tr>\n",
       "\t<tr><th scope=row>5</th><td>ENSG00000000460</td><td> 649.518455</td><td> 1.5212719</td><td>0.2059862</td><td> 7.385311</td><td>1.520976e-13</td><td>3.701954e-12</td><td>BLCA</td></tr>\n",
       "\t<tr><th scope=row>6</th><td>ENSG00000000938</td><td> 603.648850</td><td>-0.2948087</td><td>0.2501134</td><td>-1.178700</td><td>2.385177e-01</td><td>3.340684e-01</td><td>BLCA</td></tr>\n",
       "</tbody>\n",
       "</table>\n"
      ],
      "text/latex": [
       "A data.frame: 6 × 8\n",
       "\\begin{tabular}{r|llllllll}\n",
       "  & EnsembleID & baseMean & log2FoldChange & lfcSE & stat & pvalue & padj & Cancer\\\\\n",
       "  & <chr> & <dbl> & <dbl> & <dbl> & <dbl> & <dbl> & <dbl> & <chr>\\\\\n",
       "\\hline\n",
       "\t1 & ENSG00000000003 & 5711.992183 &  0.4448232 & 0.2494266 &  1.783383 & 7.452401e-02 & 1.284886e-01 & BLCA\\\\\n",
       "\t2 & ENSG00000000005 &    6.828814 & -1.2062691 & 0.6157452 & -1.959039 & 5.010819e-02 & 9.198708e-02 & BLCA\\\\\n",
       "\t3 & ENSG00000000419 & 2100.071081 &  0.3953938 & 0.1114555 &  3.547549 & 3.888332e-04 & 1.385160e-03 & BLCA\\\\\n",
       "\t4 & ENSG00000000457 &  884.164792 &  0.3003760 & 0.1375030 &  2.184505 & 2.892514e-02 & 5.787166e-02 & BLCA\\\\\n",
       "\t5 & ENSG00000000460 &  649.518455 &  1.5212719 & 0.2059862 &  7.385311 & 1.520976e-13 & 3.701954e-12 & BLCA\\\\\n",
       "\t6 & ENSG00000000938 &  603.648850 & -0.2948087 & 0.2501134 & -1.178700 & 2.385177e-01 & 3.340684e-01 & BLCA\\\\\n",
       "\\end{tabular}\n"
      ],
      "text/markdown": [
       "\n",
       "A data.frame: 6 × 8\n",
       "\n",
       "| <!--/--> | EnsembleID &lt;chr&gt; | baseMean &lt;dbl&gt; | log2FoldChange &lt;dbl&gt; | lfcSE &lt;dbl&gt; | stat &lt;dbl&gt; | pvalue &lt;dbl&gt; | padj &lt;dbl&gt; | Cancer &lt;chr&gt; |\n",
       "|---|---|---|---|---|---|---|---|---|\n",
       "| 1 | ENSG00000000003 | 5711.992183 |  0.4448232 | 0.2494266 |  1.783383 | 7.452401e-02 | 1.284886e-01 | BLCA |\n",
       "| 2 | ENSG00000000005 |    6.828814 | -1.2062691 | 0.6157452 | -1.959039 | 5.010819e-02 | 9.198708e-02 | BLCA |\n",
       "| 3 | ENSG00000000419 | 2100.071081 |  0.3953938 | 0.1114555 |  3.547549 | 3.888332e-04 | 1.385160e-03 | BLCA |\n",
       "| 4 | ENSG00000000457 |  884.164792 |  0.3003760 | 0.1375030 |  2.184505 | 2.892514e-02 | 5.787166e-02 | BLCA |\n",
       "| 5 | ENSG00000000460 |  649.518455 |  1.5212719 | 0.2059862 |  7.385311 | 1.520976e-13 | 3.701954e-12 | BLCA |\n",
       "| 6 | ENSG00000000938 |  603.648850 | -0.2948087 | 0.2501134 | -1.178700 | 2.385177e-01 | 3.340684e-01 | BLCA |\n",
       "\n"
      ],
      "text/plain": [
       "  EnsembleID      baseMean    log2FoldChange lfcSE     stat      pvalue      \n",
       "1 ENSG00000000003 5711.992183  0.4448232     0.2494266  1.783383 7.452401e-02\n",
       "2 ENSG00000000005    6.828814 -1.2062691     0.6157452 -1.959039 5.010819e-02\n",
       "3 ENSG00000000419 2100.071081  0.3953938     0.1114555  3.547549 3.888332e-04\n",
       "4 ENSG00000000457  884.164792  0.3003760     0.1375030  2.184505 2.892514e-02\n",
       "5 ENSG00000000460  649.518455  1.5212719     0.2059862  7.385311 1.520976e-13\n",
       "6 ENSG00000000938  603.648850 -0.2948087     0.2501134 -1.178700 2.385177e-01\n",
       "  padj         Cancer\n",
       "1 1.284886e-01 BLCA  \n",
       "2 9.198708e-02 BLCA  \n",
       "3 1.385160e-03 BLCA  \n",
       "4 5.787166e-02 BLCA  \n",
       "5 3.701954e-12 BLCA  \n",
       "6 3.340684e-01 BLCA  "
      ]
     },
     "metadata": {},
     "output_type": "display_data"
    }
   ],
   "source": [
    "# cancer <- stringr::str_split_fixed(string = file, pattern = '\\\\.', n = 2)[,1]\n",
    "res$Cancer <- cancer\n",
    "head(res)"
   ]
  },
  {
   "cell_type": "code",
   "execution_count": 100,
   "metadata": {
    "vscode": {
     "languageId": "r"
    }
   },
   "outputs": [
    {
     "data": {
      "text/html": [
       "'BLCA'"
      ],
      "text/latex": [
       "'BLCA'"
      ],
      "text/markdown": [
       "'BLCA'"
      ],
      "text/plain": [
       "[1] \"BLCA\""
      ]
     },
     "metadata": {},
     "output_type": "display_data"
    }
   ],
   "source": [
    "cancer"
   ]
  },
  {
   "cell_type": "code",
   "execution_count": 101,
   "metadata": {
    "vscode": {
     "languageId": "r"
    }
   },
   "outputs": [],
   "source": [
    "readr::write_tsv(res, file = paste0('/public/workspace/ryrl/FK/TCGA/', cancer, '.txt'), col_names = T)"
   ]
  },
  {
   "cell_type": "code",
   "execution_count": null,
   "metadata": {
    "vscode": {
     "languageId": "r"
    }
   },
   "outputs": [],
   "source": []
  },
  {
   "cell_type": "code",
   "execution_count": 2,
   "metadata": {
    "vscode": {
     "languageId": "r"
    }
   },
   "outputs": [],
   "source": [
    "readRDS('/public/workspace/ryrl/projects/classmates/ryrl/Cancers/TCGA/intermediate/dds_cancer.rds') -> dds"
   ]
  },
  {
   "cell_type": "code",
   "execution_count": 9,
   "metadata": {
    "vscode": {
     "languageId": "r"
    }
   },
   "outputs": [
    {
     "data": {
      "text/plain": [
       "\n",
       "  BRCA Others \n",
       "  1098   7134 "
      ]
     },
     "metadata": {},
     "output_type": "display_data"
    }
   ],
   "source": [
    "table(dds$Group_)"
   ]
  },
  {
   "cell_type": "code",
   "execution_count": null,
   "metadata": {
    "vscode": {
     "languageId": "r"
    }
   },
   "outputs": [],
   "source": []
  },
  {
   "cell_type": "code",
   "execution_count": null,
   "metadata": {
    "vscode": {
     "languageId": "r"
    }
   },
   "outputs": [],
   "source": []
  },
  {
   "cell_type": "code",
   "execution_count": null,
   "metadata": {
    "vscode": {
     "languageId": "r"
    }
   },
   "outputs": [],
   "source": []
  },
  {
   "cell_type": "code",
   "execution_count": null,
   "metadata": {
    "vscode": {
     "languageId": "r"
    }
   },
   "outputs": [],
   "source": []
  },
  {
   "cell_type": "code",
   "execution_count": null,
   "metadata": {
    "vscode": {
     "languageId": "r"
    }
   },
   "outputs": [],
   "source": []
  },
  {
   "cell_type": "code",
   "execution_count": null,
   "metadata": {
    "vscode": {
     "languageId": "r"
    }
   },
   "outputs": [],
   "source": []
  },
  {
   "cell_type": "code",
   "execution_count": null,
   "metadata": {
    "vscode": {
     "languageId": "r"
    }
   },
   "outputs": [],
   "source": []
  },
  {
   "cell_type": "code",
   "execution_count": null,
   "metadata": {
    "vscode": {
     "languageId": "r"
    }
   },
   "outputs": [],
   "source": []
  },
  {
   "cell_type": "code",
   "execution_count": null,
   "metadata": {
    "vscode": {
     "languageId": "r"
    }
   },
   "outputs": [],
   "source": []
  },
  {
   "cell_type": "code",
   "execution_count": null,
   "metadata": {
    "vscode": {
     "languageId": "r"
    }
   },
   "outputs": [],
   "source": []
  }
 ],
 "metadata": {
  "kernelspec": {
   "display_name": "R",
   "language": "R",
   "name": "ir"
  },
  "language_info": {
   "codemirror_mode": "r",
   "file_extension": ".r",
   "mimetype": "text/x-r-source",
   "name": "R",
   "pygments_lexer": "r",
   "version": "4.1.3"
  }
 },
 "nbformat": 4,
 "nbformat_minor": 2
}
